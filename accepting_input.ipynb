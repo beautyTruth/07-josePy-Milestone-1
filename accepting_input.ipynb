{
 "cells": [
  {
   "cell_type": "code",
   "execution_count": 1,
   "id": "78a56bc3",
   "metadata": {},
   "outputs": [],
   "source": [
    "def basket(honey1,honey2,honey3):\n",
    "    print(honey1)\n",
    "    print(honey2)\n",
    "    print(honey3)"
   ]
  },
  {
   "cell_type": "code",
   "execution_count": 22,
   "id": "7fc829f0",
   "metadata": {},
   "outputs": [],
   "source": [
    "cherries1 = [' ',' ',' ']\n",
    "cherries2 = [' ',' ',' ']\n",
    "cherries3 = [' ',' ',' ']"
   ]
  },
  {
   "cell_type": "code",
   "execution_count": 7,
   "id": "865c5efd",
   "metadata": {},
   "outputs": [
    {
     "name": "stdout",
     "output_type": "stream",
     "text": [
      "[' ', ' ', ' ']\n",
      "[' ', 'X', ' ']\n",
      "[' ', ' ', ' ']\n"
     ]
    }
   ],
   "source": [
    "basket(cherries1,cherries2,cherries3)"
   ]
  },
  {
   "cell_type": "code",
   "execution_count": 6,
   "id": "4750da9b",
   "metadata": {},
   "outputs": [],
   "source": [
    "cherries2[1] = 'X'"
   ]
  },
  {
   "cell_type": "code",
   "execution_count": 8,
   "id": "844dd4a3",
   "metadata": {},
   "outputs": [
    {
     "name": "stdout",
     "output_type": "stream",
     "text": [
      "[' ', ' ', ' ']\n",
      "[' ', 'X', ' ']\n",
      "[' ', ' ', ' ']\n"
     ]
    }
   ],
   "source": [
    "basket(cherries1,cherries2,cherries3)"
   ]
  },
  {
   "cell_type": "code",
   "execution_count": 9,
   "id": "22d04444",
   "metadata": {},
   "outputs": [
    {
     "name": "stdout",
     "output_type": "stream",
     "text": [
      "Please enter something here: 2\n"
     ]
    }
   ],
   "source": [
    "burrito = input(\"Please enter something here: \")"
   ]
  },
  {
   "cell_type": "code",
   "execution_count": 11,
   "id": "62701396",
   "metadata": {},
   "outputs": [
    {
     "data": {
      "text/plain": [
       "str"
      ]
     },
     "execution_count": 11,
     "metadata": {},
     "output_type": "execute_result"
    }
   ],
   "source": [
    "type(burrito)"
   ]
  },
  {
   "cell_type": "code",
   "execution_count": 12,
   "id": "33926e23",
   "metadata": {},
   "outputs": [
    {
     "name": "stdout",
     "output_type": "stream",
     "text": [
      "Enter me: 7\n"
     ]
    }
   ],
   "source": [
    "burrito = input(\"Enter me: \")"
   ]
  },
  {
   "cell_type": "code",
   "execution_count": 13,
   "id": "17c103d3",
   "metadata": {},
   "outputs": [],
   "source": [
    "burrito_supreme = int(burrito)"
   ]
  },
  {
   "cell_type": "code",
   "execution_count": 14,
   "id": "9e947ac0",
   "metadata": {},
   "outputs": [
    {
     "data": {
      "text/plain": [
       "7"
      ]
     },
     "execution_count": 14,
     "metadata": {},
     "output_type": "execute_result"
    }
   ],
   "source": [
    "burrito_supreme"
   ]
  },
  {
   "cell_type": "code",
   "execution_count": 15,
   "id": "07d82ef5",
   "metadata": {},
   "outputs": [
    {
     "data": {
      "text/plain": [
       "str"
      ]
     },
     "execution_count": 15,
     "metadata": {},
     "output_type": "execute_result"
    }
   ],
   "source": [
    "type(burrito)"
   ]
  },
  {
   "cell_type": "code",
   "execution_count": 16,
   "id": "52933b90",
   "metadata": {},
   "outputs": [
    {
     "data": {
      "text/plain": [
       "int"
      ]
     },
     "execution_count": 16,
     "metadata": {},
     "output_type": "execute_result"
    }
   ],
   "source": [
    "type(burrito_supreme)"
   ]
  },
  {
   "cell_type": "markdown",
   "id": "02fc2110",
   "metadata": {},
   "source": [
    "these casting functions can also change the type"
   ]
  },
  {
   "cell_type": "code",
   "execution_count": 17,
   "id": "dd464d19",
   "metadata": {},
   "outputs": [
    {
     "data": {
      "text/plain": [
       "7.77"
      ]
     },
     "execution_count": 17,
     "metadata": {},
     "output_type": "execute_result"
    }
   ],
   "source": [
    "float('7.77')"
   ]
  },
  {
   "cell_type": "code",
   "execution_count": 23,
   "id": "a0357094",
   "metadata": {},
   "outputs": [
    {
     "name": "stdout",
     "output_type": "stream",
     "text": [
      "Choose your fighter: 1\n"
     ]
    }
   ],
   "source": [
    "fighter_stance = int(input(\"Choose your fighter: \"))"
   ]
  },
  {
   "cell_type": "code",
   "execution_count": 24,
   "id": "adbb2c14",
   "metadata": {},
   "outputs": [
    {
     "data": {
      "text/plain": [
       "' '"
      ]
     },
     "execution_count": 24,
     "metadata": {},
     "output_type": "execute_result"
    }
   ],
   "source": [
    "cherries1[fighter_stance]"
   ]
  },
  {
   "cell_type": "code",
   "execution_count": 25,
   "id": "f43a58f4",
   "metadata": {},
   "outputs": [
    {
     "data": {
      "text/plain": [
       "int"
      ]
     },
     "execution_count": 25,
     "metadata": {},
     "output_type": "execute_result"
    }
   ],
   "source": [
    "type(fighter_stance)"
   ]
  },
  {
   "cell_type": "code",
   "execution_count": 26,
   "id": "8421210e",
   "metadata": {},
   "outputs": [
    {
     "data": {
      "text/plain": [
       "'1'"
      ]
     },
     "execution_count": 26,
     "metadata": {},
     "output_type": "execute_result"
    }
   ],
   "source": [
    "str(fighter_stance)"
   ]
  },
  {
   "cell_type": "code",
   "execution_count": null,
   "id": "07071d3e",
   "metadata": {},
   "outputs": [],
   "source": []
  }
 ],
 "metadata": {
  "kernelspec": {
   "display_name": "Python 3 (ipykernel)",
   "language": "python",
   "name": "python3"
  },
  "language_info": {
   "codemirror_mode": {
    "name": "ipython",
    "version": 3
   },
   "file_extension": ".py",
   "mimetype": "text/x-python",
   "name": "python",
   "nbconvert_exporter": "python",
   "pygments_lexer": "ipython3",
   "version": "3.11.3"
  }
 },
 "nbformat": 4,
 "nbformat_minor": 5
}
