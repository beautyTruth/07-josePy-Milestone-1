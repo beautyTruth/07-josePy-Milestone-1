{
 "cells": [
  {
   "cell_type": "code",
   "execution_count": 1,
   "id": "09c8db9e",
   "metadata": {},
   "outputs": [],
   "source": [
    "def peach_basket(line_1,line_2,line_3):\n",
    "    print(line_1)\n",
    "    print(line_2)\n",
    "    print(line_3)\n",
    "    "
   ]
  },
  {
   "cell_type": "code",
   "execution_count": 4,
   "id": "bacf1944",
   "metadata": {},
   "outputs": [],
   "source": [
    "peaches1 = [' ',' ',' ']\n",
    "peaches2 = [' ',' ',' ']\n",
    "peaches3 = [' ',' ',' ']\n",
    "\n"
   ]
  },
  {
   "cell_type": "code",
   "execution_count": 5,
   "id": "65a922ef",
   "metadata": {},
   "outputs": [
    {
     "name": "stdout",
     "output_type": "stream",
     "text": [
      "[' ', ' ', ' ']\n",
      "[' ', ' ', ' ']\n",
      "[' ', ' ', ' ']\n"
     ]
    }
   ],
   "source": [
    "peach_basket(peaches1,peaches2,peaches3)"
   ]
  },
  {
   "cell_type": "code",
   "execution_count": 6,
   "id": "d51e3030",
   "metadata": {},
   "outputs": [],
   "source": [
    "peaches2[1] = 'X'"
   ]
  },
  {
   "cell_type": "code",
   "execution_count": 7,
   "id": "e10957b9",
   "metadata": {},
   "outputs": [
    {
     "name": "stdout",
     "output_type": "stream",
     "text": [
      "[' ', ' ', ' ']\n",
      "[' ', 'X', ' ']\n",
      "[' ', ' ', ' ']\n"
     ]
    }
   ],
   "source": [
    "peach_basket(peaches1,peaches2,peaches3)"
   ]
  },
  {
   "cell_type": "code",
   "execution_count": null,
   "id": "bf31be1b",
   "metadata": {},
   "outputs": [],
   "source": []
  }
 ],
 "metadata": {
  "kernelspec": {
   "display_name": "Python 3 (ipykernel)",
   "language": "python",
   "name": "python3"
  },
  "language_info": {
   "codemirror_mode": {
    "name": "ipython",
    "version": 3
   },
   "file_extension": ".py",
   "mimetype": "text/x-python",
   "name": "python",
   "nbconvert_exporter": "python",
   "pygments_lexer": "ipython3",
   "version": "3.11.3"
  }
 },
 "nbformat": 4,
 "nbformat_minor": 5
}
