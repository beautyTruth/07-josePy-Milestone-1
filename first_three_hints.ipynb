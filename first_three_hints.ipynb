{
 "cells": [
  {
   "cell_type": "raw",
   "id": "97041e4d",
   "metadata": {},
   "source": [
    "Here is a hint of how to print a simple tic tac toe board"
   ]
  },
  {
   "cell_type": "code",
   "execution_count": 19,
   "id": "ac13b427",
   "metadata": {},
   "outputs": [],
   "source": [
    "from IPython.display import clear_output\n",
    "\n",
    "def milky_way(spiral):\n",
    "    \n",
    "    clear_output()\n",
    "    \n",
    "    print(spiral[1]+'|'+spiral[2]+'|'+spiral[3])\n",
    "    print('-----')\n",
    "    print(spiral[4]+'|'+spiral[5]+'|'+spiral[6])\n",
    "    print('-----')\n",
    "    print(spiral[7]+'|'+spiral[8]+'|'+spiral[9])"
   ]
  },
  {
   "cell_type": "code",
   "execution_count": 20,
   "id": "84d4b323",
   "metadata": {},
   "outputs": [
    {
     "name": "stdout",
     "output_type": "stream",
     "text": [
      "X|O|X\n",
      "-----\n",
      "O|X|O\n",
      "-----\n",
      "X|O|X\n"
     ]
    }
   ],
   "source": [
    "imaginary_spiral = ['whatever','X','O','X','O','X','O','X','O','X']\n",
    "milky_way(imaginary_spiral)"
   ]
  },
  {
   "cell_type": "raw",
   "id": "8797c68f",
   "metadata": {},
   "source": [
    "The above is the general idea of how to print a board"
   ]
  },
  {
   "cell_type": "raw",
   "id": "26605847",
   "metadata": {},
   "source": [
    "The initial board will be blank like below, though"
   ]
  },
  {
   "cell_type": "code",
   "execution_count": 21,
   "id": "559dbeb2",
   "metadata": {},
   "outputs": [
    {
     "name": "stdout",
     "output_type": "stream",
     "text": [
      " | | \n",
      "-----\n",
      " | | \n",
      "-----\n",
      " | | \n"
     ]
    }
   ],
   "source": [
    "blank_galaxy = [' ']*10\n",
    "milky_way(blank_galaxy)"
   ]
  },
  {
   "cell_type": "code",
   "execution_count": 22,
   "id": "9572b89c",
   "metadata": {},
   "outputs": [
    {
     "data": {
      "text/plain": [
       "[' ', ' ', ' ', ' ', ' ', ' ', ' ', ' ', ' ', ' ']"
      ]
     },
     "execution_count": 22,
     "metadata": {},
     "output_type": "execute_result"
    }
   ],
   "source": [
    "blank_galaxy"
   ]
  },
  {
   "cell_type": "raw",
   "id": "529ec813",
   "metadata": {},
   "source": [
    "Now we will write a function that takes in a player input and assigns their marker as X or O and a desired position and places it at that desired position on the board"
   ]
  },
  {
   "cell_type": "code",
   "execution_count": 25,
   "id": "bf6d1feb",
   "metadata": {},
   "outputs": [],
   "source": [
    "def miriams_choice():\n",
    "    \n",
    "    cherry = ''\n",
    "    \n",
    "    # Keep asking player 1 to choose to be X or O\n",
    "    \n",
    "    while cherry != 'X' and cherry != 'O':\n",
    "        cherry = input('First player, please choose uppercase X or O: ')\n",
    "    \n",
    "    # Now we assign the other player the opposition marker\n",
    "    \n",
    "    miriam = cherry\n",
    "    \n",
    "    if miriam == 'X':\n",
    "        amber = 'O'\n",
    "    else:\n",
    "        amber = 'X'\n",
    "        \n",
    "    return (miriam,amber)\n",
    "    \n",
    "    "
   ]
  },
  {
   "cell_type": "code",
   "execution_count": 27,
   "id": "21b7ac16",
   "metadata": {},
   "outputs": [
    {
     "name": "stdout",
     "output_type": "stream",
     "text": [
      "First player, please choose uppercase X or O: s\n",
      "First player, please choose uppercase X or O: f\n",
      "First player, please choose uppercase X or O: 45\n",
      "First player, please choose uppercase X or O: Y\n",
      "First player, please choose uppercase X or O: O\n"
     ]
    }
   ],
   "source": [
    "miriam_letter,amber_letter = miriams_choice()"
   ]
  },
  {
   "cell_type": "code",
   "execution_count": 28,
   "id": "ad79ff48",
   "metadata": {},
   "outputs": [
    {
     "data": {
      "text/plain": [
       "'O'"
      ]
     },
     "execution_count": 28,
     "metadata": {},
     "output_type": "execute_result"
    }
   ],
   "source": [
    "miriam_letter"
   ]
  },
  {
   "cell_type": "code",
   "execution_count": 29,
   "id": "96cd56e9",
   "metadata": {},
   "outputs": [
    {
     "data": {
      "text/plain": [
       "'X'"
      ]
     },
     "execution_count": 29,
     "metadata": {},
     "output_type": "execute_result"
    }
   ],
   "source": [
    "amber_letter"
   ]
  },
  {
   "cell_type": "markdown",
   "id": "4af15989",
   "metadata": {},
   "source": [
    "See how we returned a tuple so we could unpack it and assign variables easily with that returned tuple"
   ]
  },
  {
   "cell_type": "code",
   "execution_count": null,
   "id": "8a5a40bc",
   "metadata": {},
   "outputs": [],
   "source": []
  }
 ],
 "metadata": {
  "kernelspec": {
   "display_name": "Python 3 (ipykernel)",
   "language": "python",
   "name": "python3"
  },
  "language_info": {
   "codemirror_mode": {
    "name": "ipython",
    "version": 3
   },
   "file_extension": ".py",
   "mimetype": "text/x-python",
   "name": "python",
   "nbconvert_exporter": "python",
   "pygments_lexer": "ipython3",
   "version": "3.11.3"
  }
 },
 "nbformat": 4,
 "nbformat_minor": 5
}
