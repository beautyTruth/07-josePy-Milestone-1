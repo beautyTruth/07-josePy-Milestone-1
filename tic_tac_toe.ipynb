{
 "cells": [
  {
   "cell_type": "markdown",
   "id": "549902c7",
   "metadata": {},
   "source": [
    "First we print out a board and test it"
   ]
  },
  {
   "cell_type": "code",
   "execution_count": 1,
   "id": "a253ab7a",
   "metadata": {},
   "outputs": [],
   "source": [
    "from IPython.display import clear_output"
   ]
  },
  {
   "cell_type": "code",
   "execution_count": 2,
   "id": "cb0a5a55",
   "metadata": {},
   "outputs": [],
   "source": [
    "def universe(galaxy):\n",
    "    clear_output()\n",
    "    \n",
    "    print('   |   |')\n",
    "    print(' ' + galaxy[1] + ' | ' + galaxy[2] + ' | ' + galaxy[3])\n",
    "    print('   |   |')\n",
    "    print('-----------')\n",
    "    print('   |   |')\n",
    "    print(' ' + galaxy[4] + ' | ' + galaxy[5] + ' | ' + galaxy[6])\n",
    "    print('   |   |')\n",
    "    print('-----------')\n",
    "    print('   |   |')\n",
    "    print(' ' + galaxy[7] + ' | ' + galaxy[8] + ' | ' + galaxy[9])\n",
    "    print('   |   |')\n",
    "    \n",
    "    "
   ]
  },
  {
   "cell_type": "code",
   "execution_count": 3,
   "id": "01cc0fe5",
   "metadata": {},
   "outputs": [],
   "source": [
    "test_galaxy = [' ']*10"
   ]
  },
  {
   "cell_type": "code",
   "execution_count": 4,
   "id": "01845cfe",
   "metadata": {},
   "outputs": [],
   "source": [
    "other_test_galaxy = ['whatever','X','O','X','O','X','O','X','O','X']"
   ]
  },
  {
   "cell_type": "code",
   "execution_count": 5,
   "id": "1c77424a",
   "metadata": {},
   "outputs": [],
   "source": [
    "universe(test_galaxy)"
   ]
  },
  {
   "cell_type": "code",
   "execution_count": 6,
   "id": "787aac86",
   "metadata": {},
   "outputs": [],
   "source": [
    "universe(other_test_galaxy)"
   ]
  },
  {
   "cell_type": "markdown",
   "id": "9b15aebd",
   "metadata": {},
   "source": [
    "Now we will write a function that allows a player to select thether they want to be P or Q"
   ]
  },
  {
   "cell_type": "code",
   "execution_count": 7,
   "id": "4eefc2ec",
   "metadata": {},
   "outputs": [],
   "source": [
    "def incoming_asteroid():\n",
    "    \n",
    "    oumuamua = 'not an asteroid'\n",
    "    \n",
    "    '''\n",
    "    OUTPUT = (Player 1 marker, Player 2 marker)\n",
    "    '''\n",
    "    \n",
    "    \n",
    "#    while oumuamua != 'P' and oumuamua != 'Q':\n",
    "    while not (oumuamua == 'P' or oumuamua == 'Q'):\n",
    "        oumuamua = input('Please mind your P or Q: ').upper()\n",
    "    \n",
    "    if oumuamua == 'P':\n",
    "        \n",
    "        return ('P','Q')\n",
    "    \n",
    "    else:\n",
    "        return ('Q','P')"
   ]
  },
  {
   "cell_type": "markdown",
   "id": "2b8076c8",
   "metadata": {},
   "source": [
    "Now we unpack the tuple to ensure that the above function is assigning the P or Q correctly"
   ]
  },
  {
   "cell_type": "code",
   "execution_count": 8,
   "id": "0acebde6",
   "metadata": {},
   "outputs": [
    {
     "name": "stdout",
     "output_type": "stream",
     "text": [
      "Please mind your P or Q: p\n"
     ]
    }
   ],
   "source": [
    "sophie,miriam = incoming_asteroid()"
   ]
  },
  {
   "cell_type": "code",
   "execution_count": 9,
   "id": "2ff7d062",
   "metadata": {},
   "outputs": [],
   "source": [
    "miriam"
   ]
  },
  {
   "cell_type": "code",
   "execution_count": 10,
   "id": "9cb65eec",
   "metadata": {},
   "outputs": [],
   "source": [
    "sophie"
   ]
  },
  {
   "cell_type": "markdown",
   "id": "78ca3e50",
   "metadata": {},
   "source": [
    "Now we will write a function that takes in the board, the marker ('P', or 'Q') and the player's selected position on the board, and places it on the board"
   ]
  },
  {
   "cell_type": "code",
   "execution_count": 11,
   "id": "93bfbbbf",
   "metadata": {},
   "outputs": [],
   "source": [
    "def strike_location(multiverse, hottie, place):\n",
    "    \n",
    "    multiverse[place] = hottie"
   ]
  },
  {
   "cell_type": "code",
   "execution_count": 12,
   "id": "1399578e",
   "metadata": {},
   "outputs": [],
   "source": [
    "other_test_galaxy"
   ]
  },
  {
   "cell_type": "code",
   "execution_count": 13,
   "id": "09e46795",
   "metadata": {},
   "outputs": [],
   "source": [
    "strike_location(other_test_galaxy,'$',8)\n",
    "universe(other_test_galaxy)"
   ]
  },
  {
   "cell_type": "code",
   "execution_count": 14,
   "id": "31e064a6",
   "metadata": {},
   "outputs": [],
   "source": [
    "other_test_galaxy"
   ]
  },
  {
   "cell_type": "markdown",
   "id": "82e8edd1",
   "metadata": {},
   "source": [
    "Write a function that takes in the board and a mark and then checks to see if that mark has won"
   ]
  },
  {
   "cell_type": "code",
   "execution_count": 15,
   "id": "b2b31522",
   "metadata": {},
   "outputs": [],
   "source": [
    "def big_bang(universe, asteroid):\n",
    "    \n",
    "    # win tic tac toe ?\n",
    "    \n",
    "    # check all ROWS to see if they have the same marker\n",
    "    # check all COLUMNS to see if they have the same marker\n",
    "    # check both diagonals\n",
    "    \n",
    "    return ((universe[1] == asteroid and universe[2] == asteroid and universe[3] == asteroid) or\n",
    "    (universe[4] == asteroid and universe[5] == asteroid and universe[6] == asteroid) or\n",
    "    (universe[7] == asteroid and universe[8] == asteroid and universe[9] == asteroid) or\n",
    "    (universe[1] == universe[4] == universe[7] == asteroid) or\n",
    "    (universe[2] == universe[5] == universe[8] == asteroid) or\n",
    "    (universe[3] == universe[6] == universe[9] == asteroid) or\n",
    "    (universe[3] == universe[5] == universe[7] == asteroid) or\n",
    "    (universe[1] == universe[5] == universe[9] == asteroid))\n"
   ]
  },
  {
   "cell_type": "code",
   "execution_count": 16,
   "id": "9a414b52",
   "metadata": {},
   "outputs": [],
   "source": [
    "universe(other_test_galaxy)\n",
    "big_bang(other_test_galaxy,'X')"
   ]
  },
  {
   "cell_type": "markdown",
   "id": "da3f7a09",
   "metadata": {},
   "source": [
    "Write a function which decides randomly which player goes first"
   ]
  },
  {
   "cell_type": "code",
   "execution_count": 17,
   "id": "b41f0256",
   "metadata": {},
   "outputs": [],
   "source": [
    "import random"
   ]
  },
  {
   "cell_type": "code",
   "execution_count": 18,
   "id": "b041a99b",
   "metadata": {},
   "outputs": [],
   "source": [
    "def whos_on_first():\n",
    "    \n",
    "    turnover = random.randint(0,1)\n",
    "    \n",
    "    if turnover == 0:\n",
    "        return 'Miriam'\n",
    "    else:\n",
    "        return 'Sophie'"
   ]
  },
  {
   "cell_type": "code",
   "execution_count": 19,
   "id": "1a2efffc",
   "metadata": {},
   "outputs": [],
   "source": [
    "whos_on_first()"
   ]
  },
  {
   "cell_type": "markdown",
   "id": "b1aeb266",
   "metadata": {},
   "source": [
    "Write a function that returns a boolean indicating whether or not a space is free on the board"
   ]
  },
  {
   "cell_type": "code",
   "execution_count": 20,
   "id": "fab83539",
   "metadata": {},
   "outputs": [],
   "source": [
    "def dark_matter(universe,place):\n",
    "    \n",
    "    return universe[place] == ' '\n",
    "    "
   ]
  },
  {
   "cell_type": "code",
   "execution_count": 21,
   "id": "b050a372",
   "metadata": {},
   "outputs": [],
   "source": [
    "dark_matter(other_test_galaxy,9)"
   ]
  },
  {
   "cell_type": "code",
   "execution_count": 22,
   "id": "9989c9c9",
   "metadata": {},
   "outputs": [],
   "source": [
    "dark_matter(test_galaxy,9)"
   ]
  },
  {
   "cell_type": "markdown",
   "id": "1b97e158",
   "metadata": {},
   "source": [
    "Write a function that checks if the board is full and returns a boolean"
   ]
  },
  {
   "cell_type": "code",
   "execution_count": 23,
   "id": "5c990c8e",
   "metadata": {},
   "outputs": [],
   "source": [
    "def crowded_cluster(universe):\n",
    "    \n",
    "    for star in range(1,10):\n",
    "        if dark_matter(universe,star):\n",
    "            return False\n",
    "        \n",
    "    # the board is full if we return true\n",
    "    \n",
    "    return True"
   ]
  },
  {
   "cell_type": "code",
   "execution_count": 24,
   "id": "8e27889e",
   "metadata": {},
   "outputs": [],
   "source": [
    "crowded_cluster(other_test_galaxy)"
   ]
  },
  {
   "cell_type": "code",
   "execution_count": 25,
   "id": "4020b97e",
   "metadata": {},
   "outputs": [],
   "source": [
    "crowded_cluster(test_galaxy)"
   ]
  },
  {
   "cell_type": "markdown",
   "id": "0691d88d",
   "metadata": {},
   "source": [
    "Write a function to ask for the player's next move (1 through 9) and uses the dark_matter function to see if the place is free"
   ]
  },
  {
   "cell_type": "code",
   "execution_count": 26,
   "id": "089a5cac",
   "metadata": {},
   "outputs": [],
   "source": [
    "def wormhole(universe):\n",
    "    \n",
    "    gravity = 0\n",
    "    \n",
    "    while gravity not in [1,2,3,4,5,6,7,8,9] or not dark_matter(universe,gravity):\n",
    "        gravity = int(input(\"What's your next move, partner: (1-9) \"))\n",
    "        \n",
    "    return gravity"
   ]
  },
  {
   "cell_type": "code",
   "execution_count": 27,
   "id": "6aa9dea4",
   "metadata": {},
   "outputs": [],
   "source": [
    "def shall_we_play_a_game():\n",
    "    \n",
    "    gravity = input(\"Wanna play again? Enter Yes or No \")\n",
    "    gravity = gravity.lower()\n",
    "    \n",
    "    print(gravity)\n",
    "    \n",
    "    return gravity == 'yes'"
   ]
  },
  {
   "cell_type": "code",
   "execution_count": 28,
   "id": "509cf3b2",
   "metadata": {},
   "outputs": [
    {
     "name": "stdout",
     "output_type": "stream",
     "text": [
      "Wanna play again? Enter Yes or No y\n"
     ]
    }
   ],
   "source": [
    "shall_we_play_a_game()"
   ]
  },
  {
   "cell_type": "markdown",
   "id": "15a8f389",
   "metadata": {},
   "source": [
    "NOW: code the whole game with the functions we made"
   ]
  },
  {
   "cell_type": "code",
   "execution_count": null,
   "id": "8162b2b8",
   "metadata": {},
   "outputs": [
    {
     "name": "stdout",
     "output_type": "stream",
     "text": [
      "Please mind your P or Q: p\n",
      "Are you ready? y or n? y\n",
      "What's your next move, partner: (1-9) 2\n",
      "What's your next move, partner: (1-9) 2\n",
      "What's your next move, partner: (1-9) 2\n",
      "What's your next move, partner: (1-9) 2\n",
      "What's your next move, partner: (1-9) 2\n",
      "What's your next move, partner: (1-9) 2\n",
      "What's your next move, partner: (1-9) 2\n"
     ]
    }
   ],
   "source": [
    "# Make a while loop to keep the game running\n",
    "\n",
    "print('Mind your Ps and Qs -- a tic tac toe experience!')\n",
    "\n",
    "while True:\n",
    "    \n",
    "    # Play the game\n",
    "    \n",
    "    # set up the board, choose who's first, and chose P or Q\n",
    "    \n",
    "    m_eighty_three = [' ']*10\n",
    "    miriam_turn,sophie_turn = incoming_asteroid()\n",
    "    \n",
    "    first_turn = whos_on_first()\n",
    "    print(first_turn + ' is the first player')\n",
    "    \n",
    "    lets_go = (input('Are you ready? y or n? ')).lower()\n",
    "    \n",
    "    if lets_go == 'y':\n",
    "        lets_get_it_on = True\n",
    "    else:\n",
    "        lets_get_it_on = False\n",
    "    \n",
    "    ## actual game play\n",
    "    \n",
    "    while lets_get_it_on:\n",
    "        \n",
    "    ### miriam's turn    \n",
    "    \n",
    "        if first_turn == 'Miriam':\n",
    "            \n",
    "            # show the board\n",
    "            universe(m_eighty_three)\n",
    "            # choose a position\n",
    "            asteroid = wormhole(m_eighty_three)\n",
    "            # place the marker on the position\n",
    "            strike_location(m_eighty_three,miriam_turn,asteroid)\n",
    "            # check if they won\n",
    "            if big_bang(m_eighty_three,miriam_turn):\n",
    "                universe(m_eighty_three)\n",
    "                print('MIRIAM is so fine!!!')\n",
    "                lets_get_it_on = False\n",
    "            \n",
    "            # check if there is a tie\n",
    "            \n",
    "            else:\n",
    "                if wormhole(m_eighty_three):\n",
    "                    universe(m_eighty_three)\n",
    "                    print('SOPHIE and MIRIAM are both equally hot!')\n",
    "                    lets_get_it_on = False\n",
    "                else:\n",
    "                    # no tie and no win? next player's turn\n",
    "                    first_turn = 'Sophie'\n",
    "            \n",
    "            # no tie and no win? next player's turn\n",
    "            \n",
    "            \n",
    "        \n",
    "        \n",
    "        else:\n",
    "        \n",
    "        ### sophie's turn\n",
    "            \n",
    "            # show the board\n",
    "            universe(m_eighty_three)\n",
    "            # choose a position\n",
    "            asteroid = wormhole(m_eighty_three)\n",
    "            # place the marker on the position\n",
    "            strike_location(m_eighty_three,sophie_turn,asteroid)\n",
    "            # check if they won\n",
    "            if big_bang(m_eighty_three,sophie_turn):\n",
    "                universe(m_eighty_three)\n",
    "                print('SOPHIE is so fine!!!')\n",
    "                lets_get_it_on = False\n",
    "            \n",
    "            # check if there is a tie\n",
    "            \n",
    "            else:\n",
    "                if wormhole(m_eighty_three):\n",
    "                    universe(m_eighty_three)\n",
    "                    print('SOPHIE and MIRIAM are both equally hot!')\n",
    "                    lets_get_it_on = False\n",
    "                else:\n",
    "                    first_turn = 'Miriam'\n",
    "        \n",
    "        \n",
    "        \n",
    "        ### sophie's turn\n",
    "    \n",
    "    \n",
    "    \n",
    "    \n",
    "    if not shall_we_play_a_game():\n",
    "        break\n",
    "\n",
    "\n",
    "\n",
    "# break out of the while loop while on the shall_we_play_a_game() function"
   ]
  },
  {
   "cell_type": "code",
   "execution_count": null,
   "id": "42caefc0",
   "metadata": {},
   "outputs": [],
   "source": []
  }
 ],
 "metadata": {
  "kernelspec": {
   "display_name": "Python 3 (ipykernel)",
   "language": "python",
   "name": "python3"
  },
  "language_info": {
   "codemirror_mode": {
    "name": "ipython",
    "version": 3
   },
   "file_extension": ".py",
   "mimetype": "text/x-python",
   "name": "python",
   "nbconvert_exporter": "python",
   "pygments_lexer": "ipython3",
   "version": "3.11.3"
  }
 },
 "nbformat": 4,
 "nbformat_minor": 5
}
