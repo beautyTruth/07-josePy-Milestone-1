{
 "cells": [
  {
   "cell_type": "markdown",
   "id": "23dc5c2a",
   "metadata": {},
   "source": [
    "First we print out a board and test it"
   ]
  },
  {
   "cell_type": "code",
   "execution_count": 1,
   "id": "25d92eaa",
   "metadata": {},
   "outputs": [],
   "source": [
    "from IPython.display import clear_output"
   ]
  },
  {
   "cell_type": "code",
   "execution_count": 2,
   "id": "7c5be7d1",
   "metadata": {},
   "outputs": [],
   "source": [
    "def universe(galaxy):\n",
    "    clear_output()\n",
    "    \n",
    "    print('   |   |')\n",
    "    print(' ' + galaxy[1] + ' | ' + galaxy[2] + ' | ' + galaxy[3])\n",
    "    print('   |   |')\n",
    "    print('-----------')\n",
    "    print('   |   |')\n",
    "    print(' ' + galaxy[4] + ' | ' + galaxy[5] + ' | ' + galaxy[6])\n",
    "    print('   |   |')\n",
    "    print('-----------')\n",
    "    print('   |   |')\n",
    "    print(' ' + galaxy[7] + ' | ' + galaxy[8] + ' | ' + galaxy[9])\n",
    "    print('   |   |')\n",
    "    \n",
    "    "
   ]
  },
  {
   "cell_type": "code",
   "execution_count": 3,
   "id": "73050faf",
   "metadata": {},
   "outputs": [],
   "source": [
    "test_galaxy = [' ']*10"
   ]
  },
  {
   "cell_type": "code",
   "execution_count": 4,
   "id": "5fa7ca58",
   "metadata": {},
   "outputs": [],
   "source": [
    "other_test_galaxy = ['whatever','X','O','X','O','X','O','X','O','X']"
   ]
  },
  {
   "cell_type": "code",
   "execution_count": 5,
   "id": "64554bd8",
   "metadata": {},
   "outputs": [
    {
     "name": "stdout",
     "output_type": "stream",
     "text": [
      "   |   |\n",
      "   |   |  \n",
      "   |   |\n",
      "-----------\n",
      "   |   |\n",
      "   |   |  \n",
      "   |   |\n",
      "-----------\n",
      "   |   |\n",
      "   |   |  \n",
      "   |   |\n"
     ]
    }
   ],
   "source": [
    "universe(test_galaxy)"
   ]
  },
  {
   "cell_type": "code",
   "execution_count": 6,
   "id": "aec97ead",
   "metadata": {},
   "outputs": [
    {
     "name": "stdout",
     "output_type": "stream",
     "text": [
      "   |   |\n",
      " X | O | X\n",
      "   |   |\n",
      "-----------\n",
      "   |   |\n",
      " O | X | O\n",
      "   |   |\n",
      "-----------\n",
      "   |   |\n",
      " X | O | X\n",
      "   |   |\n"
     ]
    }
   ],
   "source": [
    "universe(other_test_galaxy)"
   ]
  },
  {
   "cell_type": "markdown",
   "id": "e031063c",
   "metadata": {},
   "source": [
    "Now we will write a function that allows a player to select thether they want to be P or Q"
   ]
  },
  {
   "cell_type": "code",
   "execution_count": 7,
   "id": "c9640827",
   "metadata": {},
   "outputs": [],
   "source": [
    "def incoming_asteroid():\n",
    "    \n",
    "    oumuamua = 'not an asteroid'\n",
    "    \n",
    "    '''\n",
    "    OUTPUT = (Player 1 marker, Player 2 marker)\n",
    "    '''\n",
    "    \n",
    "    \n",
    "#    while oumuamua != 'P' and oumuamua != 'Q':\n",
    "    while not (oumuamua == 'P' or oumuamua == 'Q'):\n",
    "        oumuamua = input('Please mind your P or Q: ').upper()\n",
    "    \n",
    "    if oumuamua == 'P':\n",
    "        \n",
    "        return ('P','Q')\n",
    "    \n",
    "    else:\n",
    "        return ('Q','P')"
   ]
  },
  {
   "cell_type": "markdown",
   "id": "6bb3918b",
   "metadata": {},
   "source": [
    "Now we unpack the tuple to ensure that the above function is assigning the P or Q correctly"
   ]
  },
  {
   "cell_type": "code",
   "execution_count": 8,
   "id": "ac0d26c5",
   "metadata": {},
   "outputs": [
    {
     "name": "stdout",
     "output_type": "stream",
     "text": [
      "Please mind your P or Q: p\n"
     ]
    }
   ],
   "source": [
    "sophie,miriam = incoming_asteroid()"
   ]
  },
  {
   "cell_type": "code",
   "execution_count": 9,
   "id": "f62028ef",
   "metadata": {},
   "outputs": [
    {
     "data": {
      "text/plain": [
       "'Q'"
      ]
     },
     "execution_count": 9,
     "metadata": {},
     "output_type": "execute_result"
    }
   ],
   "source": [
    "miriam"
   ]
  },
  {
   "cell_type": "code",
   "execution_count": 10,
   "id": "53e39a5b",
   "metadata": {},
   "outputs": [
    {
     "data": {
      "text/plain": [
       "'P'"
      ]
     },
     "execution_count": 10,
     "metadata": {},
     "output_type": "execute_result"
    }
   ],
   "source": [
    "sophie"
   ]
  },
  {
   "cell_type": "markdown",
   "id": "c24c09d1",
   "metadata": {},
   "source": [
    "Now we will write a function that takes in the board, the marker ('P', or 'Q') and the player's selected position on the board, and places it on the board"
   ]
  },
  {
   "cell_type": "code",
   "execution_count": 11,
   "id": "df1bb570",
   "metadata": {},
   "outputs": [],
   "source": [
    "def strike_location(multiverse, hottie, place):\n",
    "    \n",
    "    multiverse[place] = hottie"
   ]
  },
  {
   "cell_type": "code",
   "execution_count": 12,
   "id": "8e424b1e",
   "metadata": {},
   "outputs": [
    {
     "data": {
      "text/plain": [
       "['whatever', 'X', 'O', 'X', 'O', 'X', 'O', 'X', 'O', 'X']"
      ]
     },
     "execution_count": 12,
     "metadata": {},
     "output_type": "execute_result"
    }
   ],
   "source": [
    "other_test_galaxy"
   ]
  },
  {
   "cell_type": "code",
   "execution_count": 13,
   "id": "de461ddf",
   "metadata": {},
   "outputs": [
    {
     "name": "stdout",
     "output_type": "stream",
     "text": [
      "   |   |\n",
      " X | O | X\n",
      "   |   |\n",
      "-----------\n",
      "   |   |\n",
      " O | X | O\n",
      "   |   |\n",
      "-----------\n",
      "   |   |\n",
      " X | $ | X\n",
      "   |   |\n"
     ]
    }
   ],
   "source": [
    "strike_location(other_test_galaxy,'$',8)\n",
    "universe(other_test_galaxy)"
   ]
  },
  {
   "cell_type": "code",
   "execution_count": 14,
   "id": "922c3024",
   "metadata": {},
   "outputs": [
    {
     "data": {
      "text/plain": [
       "['whatever', 'X', 'O', 'X', 'O', 'X', 'O', 'X', '$', 'X']"
      ]
     },
     "execution_count": 14,
     "metadata": {},
     "output_type": "execute_result"
    }
   ],
   "source": [
    "other_test_galaxy"
   ]
  },
  {
   "cell_type": "markdown",
   "id": "ba777905",
   "metadata": {},
   "source": [
    "Write a function that takes in the board and a mark and then checks to see if that mark has won"
   ]
  },
  {
   "cell_type": "code",
   "execution_count": 15,
   "id": "7df25040",
   "metadata": {},
   "outputs": [],
   "source": [
    "def big_bang(universe, asteroid):\n",
    "    \n",
    "    # win tic tac toe ?\n",
    "    \n",
    "    # check all ROWS to see if they have the same marker\n",
    "    # check all COLUMNS to see if they have the same marker\n",
    "    # check both diagonals\n",
    "    \n",
    "    return ((universe[1] == asteroid and universe[2] == asteroid and universe[3] == asteroid) or\n",
    "    (universe[4] == asteroid and universe[5] == asteroid and universe[6] == asteroid) or\n",
    "    (universe[7] == asteroid and universe[8] == asteroid and universe[9] == asteroid) or\n",
    "    (universe[1] == universe[4] == universe[7] == asteroid) or\n",
    "    (universe[2] == universe[5] == universe[8] == asteroid) or\n",
    "    (universe[3] == universe[6] == universe[9] == asteroid) or\n",
    "    (universe[3] == universe[5] == universe[7] == asteroid) or\n",
    "    (universe[1] == universe[5] == universe[9] == asteroid))\n"
   ]
  },
  {
   "cell_type": "code",
   "execution_count": 16,
   "id": "04a4dc05",
   "metadata": {},
   "outputs": [
    {
     "name": "stdout",
     "output_type": "stream",
     "text": [
      "   |   |\n",
      " X | O | X\n",
      "   |   |\n",
      "-----------\n",
      "   |   |\n",
      " O | X | O\n",
      "   |   |\n",
      "-----------\n",
      "   |   |\n",
      " X | $ | X\n",
      "   |   |\n"
     ]
    },
    {
     "data": {
      "text/plain": [
       "True"
      ]
     },
     "execution_count": 16,
     "metadata": {},
     "output_type": "execute_result"
    }
   ],
   "source": [
    "universe(other_test_galaxy)\n",
    "big_bang(other_test_galaxy,'X')"
   ]
  },
  {
   "cell_type": "markdown",
   "id": "bbce0bba",
   "metadata": {},
   "source": [
    "Write a function which decides randomly which player goes first"
   ]
  },
  {
   "cell_type": "code",
   "execution_count": 17,
   "id": "50b44762",
   "metadata": {},
   "outputs": [],
   "source": [
    "import random"
   ]
  },
  {
   "cell_type": "code",
   "execution_count": 18,
   "id": "81e5b2be",
   "metadata": {},
   "outputs": [],
   "source": [
    "def whos_on_first():\n",
    "    \n",
    "    turnover = random.randint(0,1)\n",
    "    \n",
    "    if turnover == 0:\n",
    "        return 'Miriam'\n",
    "    else:\n",
    "        return 'Sophie'"
   ]
  },
  {
   "cell_type": "code",
   "execution_count": 19,
   "id": "f0b198db",
   "metadata": {},
   "outputs": [
    {
     "data": {
      "text/plain": [
       "'Miriam'"
      ]
     },
     "execution_count": 19,
     "metadata": {},
     "output_type": "execute_result"
    }
   ],
   "source": [
    "whos_on_first()"
   ]
  },
  {
   "cell_type": "markdown",
   "id": "da8c48e3",
   "metadata": {},
   "source": [
    "Write a function that returns a boolean indicating whether or not a space is free on the board"
   ]
  },
  {
   "cell_type": "code",
   "execution_count": 20,
   "id": "68d63d19",
   "metadata": {},
   "outputs": [],
   "source": [
    "def dark_matter(universe,place):\n",
    "    \n",
    "    return universe[place] == ' '\n",
    "    "
   ]
  },
  {
   "cell_type": "code",
   "execution_count": 21,
   "id": "51de843e",
   "metadata": {},
   "outputs": [
    {
     "data": {
      "text/plain": [
       "False"
      ]
     },
     "execution_count": 21,
     "metadata": {},
     "output_type": "execute_result"
    }
   ],
   "source": [
    "dark_matter(other_test_galaxy,9)"
   ]
  },
  {
   "cell_type": "code",
   "execution_count": 22,
   "id": "1fd797b2",
   "metadata": {},
   "outputs": [
    {
     "data": {
      "text/plain": [
       "True"
      ]
     },
     "execution_count": 22,
     "metadata": {},
     "output_type": "execute_result"
    }
   ],
   "source": [
    "dark_matter(test_galaxy,9)"
   ]
  },
  {
   "cell_type": "markdown",
   "id": "ce4e6576",
   "metadata": {},
   "source": [
    "Write a function that checks if the board is full and returns a boolean"
   ]
  },
  {
   "cell_type": "code",
   "execution_count": 23,
   "id": "d6a4ac74",
   "metadata": {},
   "outputs": [],
   "source": [
    "def crowded_cluster(universe):\n",
    "    \n",
    "    for star in range(1,10):\n",
    "        if dark_matter(universe,star):\n",
    "            return False\n",
    "        \n",
    "    # the board is full if we return true\n",
    "    \n",
    "    return True"
   ]
  },
  {
   "cell_type": "code",
   "execution_count": 24,
   "id": "2665eea8",
   "metadata": {},
   "outputs": [
    {
     "data": {
      "text/plain": [
       "True"
      ]
     },
     "execution_count": 24,
     "metadata": {},
     "output_type": "execute_result"
    }
   ],
   "source": [
    "crowded_cluster(other_test_galaxy)"
   ]
  },
  {
   "cell_type": "code",
   "execution_count": 25,
   "id": "c102d3f5",
   "metadata": {},
   "outputs": [
    {
     "data": {
      "text/plain": [
       "False"
      ]
     },
     "execution_count": 25,
     "metadata": {},
     "output_type": "execute_result"
    }
   ],
   "source": [
    "crowded_cluster(test_galaxy)"
   ]
  },
  {
   "cell_type": "markdown",
   "id": "c598cfb7",
   "metadata": {},
   "source": [
    "Write a function to ask for the player's next move (1 through 9) and uses the dark_matter function to see if the place is free"
   ]
  },
  {
   "cell_type": "code",
   "execution_count": 26,
   "id": "8ac5501e",
   "metadata": {},
   "outputs": [],
   "source": [
    "def wormhole(universe):\n",
    "    \n",
    "    gravity = 0\n",
    "    \n",
    "    while gravity not in [1,2,3,4,5,6,7,8,9] or not dark_matter(universe,gravity):\n",
    "        gravity = int(input(\"What's your next move, partner: (1-9) \"))\n",
    "        \n",
    "    return gravity"
   ]
  },
  {
   "cell_type": "code",
   "execution_count": 27,
   "id": "c25f61fa",
   "metadata": {},
   "outputs": [],
   "source": [
    "def shall_we_play_a_game():\n",
    "    \n",
    "    gravity = input(\"Wanna play again? Enter Yes or No \")\n",
    "    gravity = gravity.lower()\n",
    "    \n",
    "    print(gravity)\n",
    "    \n",
    "    return gravity == 'yes'"
   ]
  },
  {
   "cell_type": "code",
   "execution_count": 28,
   "id": "8c333f78",
   "metadata": {},
   "outputs": [
    {
     "name": "stdout",
     "output_type": "stream",
     "text": [
      "Wanna play again? Enter Yes or No y\n",
      "y\n"
     ]
    },
    {
     "data": {
      "text/plain": [
       "False"
      ]
     },
     "execution_count": 28,
     "metadata": {},
     "output_type": "execute_result"
    }
   ],
   "source": [
    "shall_we_play_a_game()"
   ]
  },
  {
   "cell_type": "markdown",
   "id": "c2243107",
   "metadata": {},
   "source": [
    "NOW: code the whole game with the functions we made"
   ]
  },
  {
   "cell_type": "code",
   "execution_count": null,
   "id": "4fca41cd",
   "metadata": {},
   "outputs": [],
   "source": [
    "# Make a while loop to keep the game running\n",
    "\n",
    "print('Mind your Ps and Qs -- a tic tac toe experience!')\n",
    "\n",
    "while True:\n",
    "    \n",
    "    # Play the game\n",
    "    \n",
    "    # set up the board, choose who's first, and chose P or Q\n",
    "    \n",
    "    m_eighty_three = [' ']*10\n",
    "    miriam_turn,sophie_turn = incoming_asteroid()\n",
    "    \n",
    "    first_turn = whos_on_first()\n",
    "    print(first_turn + ' is the first player')\n",
    "    \n",
    "    lets_go = (input('Are you ready? y or n? ')).lower()\n",
    "    \n",
    "    if lets_go == 'y':\n",
    "        lets_get_it_on = True\n",
    "    else:\n",
    "        lets_get_it_on = False\n",
    "    \n",
    "    ## actual game play\n",
    "    \n",
    "    while lets_get_it_on:\n",
    "        \n",
    "    ### miriam's turn    \n",
    "    \n",
    "        if first_turn == 'Miriam':\n",
    "            \n",
    "            # show the board\n",
    "            universe(m_eighty_three)\n",
    "            # choose a position\n",
    "            asteroid = wormhole(m_eighty_three)\n",
    "            # place the marker on the position\n",
    "            strike_location(m_eighty_three,miriam_turn,asteroid)\n",
    "            # check if they won\n",
    "            if big_bang(m_eighty_three,miriam_turn):\n",
    "                universe(m_eighty_three)\n",
    "                print('MIRIAM is so fine!!!')\n",
    "                lets_get_it_on = False\n",
    "            \n",
    "            # check if there is a tie\n",
    "            \n",
    "            else:\n",
    "                if wormhole(m_eighty_three):\n",
    "                    universe(m_eighty_three)\n",
    "                    print('SOPHIE and MIRIAM are both equally hot!')\n",
    "                    lets_get_it_on = False\n",
    "                else:\n",
    "                    # no tie and no win? next player's turn\n",
    "                    first_turn = 'Sophie'\n",
    "            \n",
    "            # no tie and no win? next player's turn\n",
    "            \n",
    "            \n",
    "        \n",
    "        \n",
    "        else:\n",
    "        \n",
    "        ### sophie's turn\n",
    "            \n",
    "            # show the board\n",
    "            universe(m_eighty_three)\n",
    "            # choose a position\n",
    "            asteroid = wormhole(m_eighty_three)\n",
    "            # place the marker on the position\n",
    "            strike_location(m_eighty_three,sophie_turn,asteroid)\n",
    "            # check if they won\n",
    "            if big_bang(m_eighty_three,sophie_turn):\n",
    "                universe(m_eighty_three)\n",
    "                print('SOPHIE is so fine!!!')\n",
    "                lets_get_it_on = False\n",
    "            \n",
    "            # check if there is a tie\n",
    "            \n",
    "            else:\n",
    "                if wormhole(m_eighty_three):\n",
    "                    universe(m_eighty_three)\n",
    "                    print('SOPHIE and MIRIAM are both equally hot!')\n",
    "                    lets_get_it_on = False\n",
    "                else:\n",
    "                    first_turn = 'Miriam'\n",
    "        \n",
    "        \n",
    "        \n",
    "        ### sophie's turn\n",
    "    \n",
    "    \n",
    "    \n",
    "    \n",
    "    if not shall_we_play_a_game():\n",
    "        break\n",
    "\n",
    "\n",
    "\n",
    "# break out of the while loop while on the shall_we_play_a_game() function"
   ]
  },
  {
   "cell_type": "code",
   "execution_count": null,
   "id": "74fd8a91",
   "metadata": {},
   "outputs": [],
   "source": []
  }
 ],
 "metadata": {
  "kernelspec": {
   "display_name": "Python 3 (ipykernel)",
   "language": "python",
   "name": "python3"
  },
  "language_info": {
   "codemirror_mode": {
    "name": "ipython",
    "version": 3
   },
   "file_extension": ".py",
   "mimetype": "text/x-python",
   "name": "python",
   "nbconvert_exporter": "python",
   "pygments_lexer": "ipython3",
   "version": "3.11.3"
  }
 },
 "nbformat": 4,
 "nbformat_minor": 5
}
