{
 "cells": [
  {
   "cell_type": "markdown",
   "id": "f1efe57b",
   "metadata": {},
   "source": [
    "First we print out a board and test it"
   ]
  },
  {
   "cell_type": "code",
   "execution_count": 1,
   "id": "df73d567",
   "metadata": {},
   "outputs": [],
   "source": [
    "from IPython.display import clear_output"
   ]
  },
  {
   "cell_type": "code",
   "execution_count": 2,
   "id": "58f41e01",
   "metadata": {},
   "outputs": [],
   "source": [
    "def universe(galaxy):\n",
    "    clear_output()\n",
    "    \n",
    "    print('   |   |')\n",
    "    print(' ' + galaxy[1] + ' | ' + galaxy[2] + ' | ' + galaxy[3])\n",
    "    print('   |   |')\n",
    "    print('-----------')\n",
    "    print('   |   |')\n",
    "    print(' ' + galaxy[4] + ' | ' + galaxy[5] + ' | ' + galaxy[6])\n",
    "    print('   |   |')\n",
    "    print('-----------')\n",
    "    print('   |   |')\n",
    "    print(' ' + galaxy[7] + ' | ' + galaxy[8] + ' | ' + galaxy[9])\n",
    "    print('   |   |')\n",
    "    \n",
    "    "
   ]
  },
  {
   "cell_type": "code",
   "execution_count": 3,
   "id": "588f17f2",
   "metadata": {},
   "outputs": [],
   "source": [
    "test_galaxy = [' ']*10"
   ]
  },
  {
   "cell_type": "code",
   "execution_count": 4,
   "id": "c4bf7cf2",
   "metadata": {},
   "outputs": [],
   "source": [
    "other_test_galaxy = ['whatever','X','O','X','O','X','O','X','O','X']"
   ]
  },
  {
   "cell_type": "code",
   "execution_count": 5,
   "id": "ed196a1e",
   "metadata": {},
   "outputs": [
    {
     "name": "stdout",
     "output_type": "stream",
     "text": [
      "   |   |\n",
      "   |   |  \n",
      "   |   |\n",
      "-----------\n",
      "   |   |\n",
      "   |   |  \n",
      "   |   |\n",
      "-----------\n",
      "   |   |\n",
      "   |   |  \n",
      "   |   |\n"
     ]
    }
   ],
   "source": [
    "universe(test_galaxy)"
   ]
  },
  {
   "cell_type": "code",
   "execution_count": 6,
   "id": "d8831f39",
   "metadata": {},
   "outputs": [
    {
     "name": "stdout",
     "output_type": "stream",
     "text": [
      "   |   |\n",
      " X | O | X\n",
      "   |   |\n",
      "-----------\n",
      "   |   |\n",
      " O | X | O\n",
      "   |   |\n",
      "-----------\n",
      "   |   |\n",
      " X | O | X\n",
      "   |   |\n"
     ]
    }
   ],
   "source": [
    "universe(other_test_galaxy)"
   ]
  },
  {
   "cell_type": "markdown",
   "id": "86a4efd8",
   "metadata": {},
   "source": [
    "Now we will write a function that allows a player to select thether they want to be P or Q"
   ]
  },
  {
   "cell_type": "code",
   "execution_count": 7,
   "id": "74105b0b",
   "metadata": {},
   "outputs": [],
   "source": [
    "def incoming_asteroid():\n",
    "    \n",
    "    oumuamua = 'not an asteroid'\n",
    "    \n",
    "    '''\n",
    "    OUTPUT = (Player 1 marker, Player 2 marker)\n",
    "    '''\n",
    "    \n",
    "    \n",
    "#    while oumuamua != 'P' and oumuamua != 'Q':\n",
    "    while not (oumuamua == 'P' or oumuamua == 'Q'):\n",
    "        oumuamua = input('Please mind your P or Q: ').upper()\n",
    "    \n",
    "    if oumuamua == 'P':\n",
    "        \n",
    "        return ('P','Q')\n",
    "    \n",
    "    else:\n",
    "        return ('Q','P')"
   ]
  },
  {
   "cell_type": "markdown",
   "id": "932b74d1",
   "metadata": {},
   "source": [
    "Now we unpack the tuple to ensure that the above function is assigning the P or Q correctly"
   ]
  },
  {
   "cell_type": "code",
   "execution_count": 8,
   "id": "d4f6d67e",
   "metadata": {},
   "outputs": [
    {
     "name": "stdout",
     "output_type": "stream",
     "text": [
      "Please mind your P or Q: p\n"
     ]
    }
   ],
   "source": [
    "sophie,miriam = incoming_asteroid()"
   ]
  },
  {
   "cell_type": "code",
   "execution_count": 9,
   "id": "5a70c12b",
   "metadata": {},
   "outputs": [
    {
     "data": {
      "text/plain": [
       "'Q'"
      ]
     },
     "execution_count": 9,
     "metadata": {},
     "output_type": "execute_result"
    }
   ],
   "source": [
    "miriam"
   ]
  },
  {
   "cell_type": "code",
   "execution_count": 10,
   "id": "9a4c311f",
   "metadata": {},
   "outputs": [
    {
     "data": {
      "text/plain": [
       "'P'"
      ]
     },
     "execution_count": 10,
     "metadata": {},
     "output_type": "execute_result"
    }
   ],
   "source": [
    "sophie"
   ]
  },
  {
   "cell_type": "markdown",
   "id": "71f730e6",
   "metadata": {},
   "source": [
    "Now we will write a function that takes in the board, the marker ('P', or 'Q') and the player's selected position on the board, and places it on the board"
   ]
  },
  {
   "cell_type": "code",
   "execution_count": 11,
   "id": "110583f4",
   "metadata": {},
   "outputs": [],
   "source": [
    "def strike_location(multiverse, hottie, place):\n",
    "    \n",
    "    multiverse[place] = hottie"
   ]
  },
  {
   "cell_type": "code",
   "execution_count": 12,
   "id": "9da0d9bd",
   "metadata": {},
   "outputs": [
    {
     "data": {
      "text/plain": [
       "['whatever', 'X', 'O', 'X', 'O', 'X', 'O', 'X', 'O', 'X']"
      ]
     },
     "execution_count": 12,
     "metadata": {},
     "output_type": "execute_result"
    }
   ],
   "source": [
    "other_test_galaxy"
   ]
  },
  {
   "cell_type": "code",
   "execution_count": 13,
   "id": "c648d965",
   "metadata": {},
   "outputs": [
    {
     "name": "stdout",
     "output_type": "stream",
     "text": [
      "   |   |\n",
      " X | O | X\n",
      "   |   |\n",
      "-----------\n",
      "   |   |\n",
      " O | X | O\n",
      "   |   |\n",
      "-----------\n",
      "   |   |\n",
      " X | $ | X\n",
      "   |   |\n"
     ]
    }
   ],
   "source": [
    "strike_location(other_test_galaxy,'$',8)\n",
    "universe(other_test_galaxy)"
   ]
  },
  {
   "cell_type": "code",
   "execution_count": 14,
   "id": "57646a15",
   "metadata": {},
   "outputs": [
    {
     "data": {
      "text/plain": [
       "['whatever', 'X', 'O', 'X', 'O', 'X', 'O', 'X', '$', 'X']"
      ]
     },
     "execution_count": 14,
     "metadata": {},
     "output_type": "execute_result"
    }
   ],
   "source": [
    "other_test_galaxy"
   ]
  },
  {
   "cell_type": "markdown",
   "id": "88e12b4b",
   "metadata": {},
   "source": [
    "Write a function that takes in the board and a mark and then checks to see if that mark has won"
   ]
  },
  {
   "cell_type": "code",
   "execution_count": 15,
   "id": "fafb94fb",
   "metadata": {},
   "outputs": [],
   "source": [
    "def big_bang(universe, asteroid):\n",
    "    \n",
    "    # win tic tac toe ?\n",
    "    \n",
    "    # check all ROWS to see if they have the same marker\n",
    "    # check all COLUMNS to see if they have the same marker\n",
    "    # check both diagonals\n",
    "    \n",
    "    return ((universe[1] == asteroid and universe[2] == asteroid and universe[3] == asteroid) or\n",
    "    (universe[4] == asteroid and universe[5] == asteroid and universe[6] == asteroid) or\n",
    "    (universe[7] == asteroid and universe[8] == asteroid and universe[9] == asteroid) or\n",
    "    (universe[1] == universe[4] == universe[7] == asteroid) or\n",
    "    (universe[2] == universe[5] == universe[8] == asteroid) or\n",
    "    (universe[3] == universe[6] == universe[9] == asteroid) or\n",
    "    (universe[3] == universe[5] == universe[7] == asteroid) or\n",
    "    (universe[1] == universe[5] == universe[9] == asteroid))\n"
   ]
  },
  {
   "cell_type": "code",
   "execution_count": 16,
   "id": "4b538a08",
   "metadata": {},
   "outputs": [
    {
     "name": "stdout",
     "output_type": "stream",
     "text": [
      "   |   |\n",
      " X | O | X\n",
      "   |   |\n",
      "-----------\n",
      "   |   |\n",
      " O | X | O\n",
      "   |   |\n",
      "-----------\n",
      "   |   |\n",
      " X | $ | X\n",
      "   |   |\n"
     ]
    },
    {
     "data": {
      "text/plain": [
       "True"
      ]
     },
     "execution_count": 16,
     "metadata": {},
     "output_type": "execute_result"
    }
   ],
   "source": [
    "universe(other_test_galaxy)\n",
    "big_bang(other_test_galaxy,'X')"
   ]
  },
  {
   "cell_type": "markdown",
   "id": "ca3b8004",
   "metadata": {},
   "source": [
    "Write a function which decides randomly which player goes first"
   ]
  },
  {
   "cell_type": "code",
   "execution_count": 17,
   "id": "7123a3bc",
   "metadata": {},
   "outputs": [],
   "source": [
    "import random"
   ]
  },
  {
   "cell_type": "code",
   "execution_count": 18,
   "id": "a3ab79a6",
   "metadata": {},
   "outputs": [],
   "source": [
    "def whos_on_first():\n",
    "    \n",
    "    turnover = random.randint(0,1)\n",
    "    \n",
    "    if turnover == 0:\n",
    "        return 'Miriam'\n",
    "    else:\n",
    "        return 'Sophie'"
   ]
  },
  {
   "cell_type": "code",
   "execution_count": 19,
   "id": "3e97394d",
   "metadata": {},
   "outputs": [
    {
     "data": {
      "text/plain": [
       "'Miriam'"
      ]
     },
     "execution_count": 19,
     "metadata": {},
     "output_type": "execute_result"
    }
   ],
   "source": [
    "whos_on_first()"
   ]
  },
  {
   "cell_type": "markdown",
   "id": "df9936e3",
   "metadata": {},
   "source": [
    "Write a function that returns a boolean indicating whether or not a space is free on the board"
   ]
  },
  {
   "cell_type": "code",
   "execution_count": 20,
   "id": "575ba3a0",
   "metadata": {},
   "outputs": [],
   "source": [
    "def dark_matter(universe,place):\n",
    "    \n",
    "    return universe[place] == ' '\n",
    "    "
   ]
  },
  {
   "cell_type": "code",
   "execution_count": 21,
   "id": "59709717",
   "metadata": {},
   "outputs": [
    {
     "data": {
      "text/plain": [
       "False"
      ]
     },
     "execution_count": 21,
     "metadata": {},
     "output_type": "execute_result"
    }
   ],
   "source": [
    "dark_matter(other_test_galaxy,9)"
   ]
  },
  {
   "cell_type": "code",
   "execution_count": 22,
   "id": "bfea8de8",
   "metadata": {},
   "outputs": [
    {
     "data": {
      "text/plain": [
       "True"
      ]
     },
     "execution_count": 22,
     "metadata": {},
     "output_type": "execute_result"
    }
   ],
   "source": [
    "dark_matter(test_galaxy,9)"
   ]
  },
  {
   "cell_type": "markdown",
   "id": "aa2e6331",
   "metadata": {},
   "source": [
    "Write a function that checks if the board is full and returns a boolean"
   ]
  },
  {
   "cell_type": "code",
   "execution_count": 23,
   "id": "3253e88a",
   "metadata": {},
   "outputs": [],
   "source": [
    "def crowded_cluster(universe):\n",
    "    \n",
    "    for star in range(1,10):\n",
    "        if dark_matter(universe,star):\n",
    "            return False\n",
    "        \n",
    "    # the board is full if we return true\n",
    "    \n",
    "    return True"
   ]
  },
  {
   "cell_type": "code",
   "execution_count": 24,
   "id": "f27968d9",
   "metadata": {},
   "outputs": [
    {
     "data": {
      "text/plain": [
       "True"
      ]
     },
     "execution_count": 24,
     "metadata": {},
     "output_type": "execute_result"
    }
   ],
   "source": [
    "crowded_cluster(other_test_galaxy)"
   ]
  },
  {
   "cell_type": "code",
   "execution_count": 25,
   "id": "014ca19e",
   "metadata": {},
   "outputs": [
    {
     "data": {
      "text/plain": [
       "False"
      ]
     },
     "execution_count": 25,
     "metadata": {},
     "output_type": "execute_result"
    }
   ],
   "source": [
    "crowded_cluster(test_galaxy)"
   ]
  },
  {
   "cell_type": "markdown",
   "id": "77a4cb3d",
   "metadata": {},
   "source": [
    "Write a function to ask for the player's next move (1 through 9) and uses the dark_matter function to see if the place is free"
   ]
  },
  {
   "cell_type": "code",
   "execution_count": 26,
   "id": "dd2023b6",
   "metadata": {},
   "outputs": [],
   "source": [
    "def wormhole(universe):\n",
    "    \n",
    "    gravity = 0\n",
    "    \n",
    "    while gravity not in [1,2,3,4,5,6,7,8,9] or not dark_matter(universe,gravity):\n",
    "        gravity = int(input(\"What's your next move, partner: (1-9) \"))\n",
    "        \n",
    "    return gravity"
   ]
  },
  {
   "cell_type": "code",
   "execution_count": 27,
   "id": "309c6cc6",
   "metadata": {},
   "outputs": [],
   "source": [
    "def shall_we_play_a_game():\n",
    "    \n",
    "    gravity = input(\"Wanna play again? Enter Yes or No \")\n",
    "    gravity = gravity.lower()\n",
    "    \n",
    "    print(gravity)\n",
    "    \n",
    "    return gravity == 'yes'"
   ]
  },
  {
   "cell_type": "code",
   "execution_count": 28,
   "id": "c5742897",
   "metadata": {},
   "outputs": [
    {
     "name": "stdout",
     "output_type": "stream",
     "text": [
      "Wanna play again? Enter Yes or No y\n",
      "y\n"
     ]
    },
    {
     "data": {
      "text/plain": [
       "False"
      ]
     },
     "execution_count": 28,
     "metadata": {},
     "output_type": "execute_result"
    }
   ],
   "source": [
    "shall_we_play_a_game()"
   ]
  },
  {
   "cell_type": "markdown",
   "id": "ba6b7c6b",
   "metadata": {},
   "source": [
    "NOW: code the whole game with the functions we made"
   ]
  },
  {
   "cell_type": "code",
   "execution_count": null,
   "id": "c1a354ec",
   "metadata": {},
   "outputs": [
    {
     "name": "stdout",
     "output_type": "stream",
     "text": [
      "   |   |\n",
      " P |   |  \n",
      "   |   |\n",
      "-----------\n",
      "   |   |\n",
      "   |   |  \n",
      "   |   |\n",
      "-----------\n",
      "   |   |\n",
      "   |   |  \n",
      "   |   |\n",
      "SOPHIE and MIRIAM are both equally hot!\n"
     ]
    }
   ],
   "source": [
    "# Make a while loop to keep the game running\n",
    "\n",
    "print('Mind your Ps and Qs -- a tic tac toe experience!')\n",
    "\n",
    "while True:\n",
    "    \n",
    "    # Play the game\n",
    "    \n",
    "    # set up the board, choose who's first, and chose P or Q\n",
    "    \n",
    "    m_eighty_three = [' ']*10\n",
    "    miriam_turn,sophie_turn = incoming_asteroid()\n",
    "    \n",
    "    first_turn = whos_on_first()\n",
    "    print(first_turn + ' is the first player')\n",
    "    \n",
    "    lets_go = (input('Are you ready? y or n? ')).lower()\n",
    "    \n",
    "    if lets_go == 'y':\n",
    "        lets_get_it_on = True\n",
    "    else:\n",
    "        lets_get_it_on = False\n",
    "    \n",
    "    ## actual game play\n",
    "    \n",
    "    while lets_get_it_on:\n",
    "        \n",
    "    ### miriam's turn    \n",
    "    \n",
    "        if first_turn == 'Miriam':\n",
    "            \n",
    "            # show the board\n",
    "            universe(m_eighty_three)\n",
    "            # choose a position\n",
    "            asteroid = wormhole(m_eighty_three)\n",
    "            # place the marker on the position\n",
    "            strike_location(m_eighty_three,miriam_turn,asteroid)\n",
    "            # check if they won\n",
    "            if big_bang(m_eighty_three,miriam_turn):\n",
    "                universe(m_eighty_three)\n",
    "                print('MIRIAM is so fine!!!')\n",
    "                lets_get_it_on = False\n",
    "            \n",
    "            # check if there is a tie\n",
    "            \n",
    "            else:\n",
    "                if wormhole(m_eighty_three):\n",
    "                    universe(m_eighty_three)\n",
    "                    print('SOPHIE and MIRIAM are both equally hot!')\n",
    "                    lets_get_it_on = False\n",
    "                else:\n",
    "                    # no tie and no win? next player's turn\n",
    "                    first_turn = 'Sophie'\n",
    "            \n",
    "            # no tie and no win? next player's turn\n",
    "            \n",
    "            \n",
    "        \n",
    "        \n",
    "        else:\n",
    "        \n",
    "        ### sophie's turn\n",
    "            \n",
    "            # show the board\n",
    "            universe(m_eighty_three)\n",
    "            # choose a position\n",
    "            asteroid = wormhole(m_eighty_three)\n",
    "            # place the marker on the position\n",
    "            strike_location(m_eighty_three,sophie_turn,asteroid)\n",
    "            # check if they won\n",
    "            if big_bang(m_eighty_three,sophie_turn):\n",
    "                universe(m_eighty_three)\n",
    "                print('SOPHIE is so fine!!!')\n",
    "                lets_get_it_on = False\n",
    "            \n",
    "            # check if there is a tie\n",
    "            \n",
    "            else:\n",
    "                if wormhole(m_eighty_three):\n",
    "                    universe(m_eighty_three)\n",
    "                    print('SOPHIE and MIRIAM are both equally hot!')\n",
    "                    lets_get_it_on = False\n",
    "                else:\n",
    "                    first_turn = 'Miriam'\n",
    "        \n",
    "        \n",
    "        \n",
    "        ### sophie's turn\n",
    "    \n",
    "    \n",
    "    \n",
    "    \n",
    "    if not shall_we_play_a_game():\n",
    "        break\n",
    "\n",
    "\n",
    "\n",
    "# break out of the while loop while on the shall_we_play_a_game() function"
   ]
  },
  {
   "cell_type": "code",
   "execution_count": null,
   "id": "80617c0d",
   "metadata": {},
   "outputs": [],
   "source": []
  }
 ],
 "metadata": {
  "kernelspec": {
   "display_name": "Python 3 (ipykernel)",
   "language": "python",
   "name": "python3"
  },
  "language_info": {
   "codemirror_mode": {
    "name": "ipython",
    "version": 3
   },
   "file_extension": ".py",
   "mimetype": "text/x-python",
   "name": "python",
   "nbconvert_exporter": "python",
   "pygments_lexer": "ipython3",
   "version": "3.11.3"
  }
 },
 "nbformat": 4,
 "nbformat_minor": 5
}
