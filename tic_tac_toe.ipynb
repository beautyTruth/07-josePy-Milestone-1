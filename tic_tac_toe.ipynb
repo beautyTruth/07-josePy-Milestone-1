{
 "cells": [
  {
   "cell_type": "markdown",
   "id": "2e7c37c5",
   "metadata": {},
   "source": [
    "First we print out a board and test it"
   ]
  },
  {
   "cell_type": "code",
   "execution_count": 1,
   "id": "e387343a",
   "metadata": {},
   "outputs": [],
   "source": [
    "from IPython.display import clear_output"
   ]
  },
  {
   "cell_type": "code",
   "execution_count": 2,
   "id": "20a14e9f",
   "metadata": {},
   "outputs": [],
   "source": [
    "def universe(galaxy):\n",
    "    clear_output()\n",
    "    \n",
    "    print('   |   |')\n",
    "    print(' ' + galaxy[1] + ' | ' + galaxy[2] + ' | ' + galaxy[3])\n",
    "    print('   |   |')\n",
    "    print('-----------')\n",
    "    print('   |   |')\n",
    "    print(' ' + galaxy[4] + ' | ' + galaxy[5] + ' | ' + galaxy[6])\n",
    "    print('   |   |')\n",
    "    print('-----------')\n",
    "    print('   |   |')\n",
    "    print(' ' + galaxy[7] + ' | ' + galaxy[8] + ' | ' + galaxy[9])\n",
    "    print('   |   |')\n",
    "    \n",
    "    "
   ]
  },
  {
   "cell_type": "code",
   "execution_count": 3,
   "id": "bafd434d",
   "metadata": {},
   "outputs": [],
   "source": [
    "test_galaxy = [' ']*10"
   ]
  },
  {
   "cell_type": "code",
   "execution_count": 4,
   "id": "c23fa4ed",
   "metadata": {},
   "outputs": [],
   "source": [
    "other_test_galaxy = ['whatever','X','O','X','O','X','O','X','O','X']"
   ]
  },
  {
   "cell_type": "code",
   "execution_count": 5,
   "id": "229a7e24",
   "metadata": {},
   "outputs": [
    {
     "name": "stdout",
     "output_type": "stream",
     "text": [
      "   |   |\n",
      "   |   |  \n",
      "   |   |\n",
      "-----------\n",
      "   |   |\n",
      "   |   |  \n",
      "   |   |\n",
      "-----------\n",
      "   |   |\n",
      "   |   |  \n",
      "   |   |\n"
     ]
    }
   ],
   "source": [
    "universe(test_galaxy)"
   ]
  },
  {
   "cell_type": "code",
   "execution_count": 6,
   "id": "6874c774",
   "metadata": {},
   "outputs": [
    {
     "name": "stdout",
     "output_type": "stream",
     "text": [
      "   |   |\n",
      " X | O | X\n",
      "   |   |\n",
      "-----------\n",
      "   |   |\n",
      " O | X | O\n",
      "   |   |\n",
      "-----------\n",
      "   |   |\n",
      " X | O | X\n",
      "   |   |\n"
     ]
    }
   ],
   "source": [
    "universe(other_test_galaxy)"
   ]
  },
  {
   "cell_type": "markdown",
   "id": "2a3ea0c6",
   "metadata": {},
   "source": [
    "Now we will write a function that allows a player to select thether they want to be P or Q"
   ]
  },
  {
   "cell_type": "code",
   "execution_count": 7,
   "id": "b4c2cb2f",
   "metadata": {},
   "outputs": [],
   "source": [
    "def incoming_asteroid():\n",
    "    \n",
    "    oumuamua = 'not an asteroid'\n",
    "    \n",
    "    '''\n",
    "    OUTPUT = (Player 1 marker, Player 2 marker)\n",
    "    '''\n",
    "    \n",
    "    \n",
    "#    while oumuamua != 'P' and oumuamua != 'Q':\n",
    "    while not (oumuamua == 'P' or oumuamua == 'Q'):\n",
    "        oumuamua = input('Please mind your P or Q: ').upper()\n",
    "    \n",
    "    if oumuamua == 'P':\n",
    "        \n",
    "        return ('P','Q')\n",
    "    \n",
    "    else:\n",
    "        return ('Q','P')"
   ]
  },
  {
   "cell_type": "markdown",
   "id": "e1a3f415",
   "metadata": {},
   "source": [
    "Now we unpack the tuple to ensure that the above function is assigning the P or Q correctly"
   ]
  },
  {
   "cell_type": "code",
   "execution_count": 8,
   "id": "3a86f47b",
   "metadata": {},
   "outputs": [
    {
     "name": "stdout",
     "output_type": "stream",
     "text": [
      "Please mind your P or Q: q\n"
     ]
    }
   ],
   "source": [
    "sophie,miriam = incoming_asteroid()"
   ]
  },
  {
   "cell_type": "code",
   "execution_count": 9,
   "id": "b6d3d2cb",
   "metadata": {},
   "outputs": [
    {
     "data": {
      "text/plain": [
       "'P'"
      ]
     },
     "execution_count": 9,
     "metadata": {},
     "output_type": "execute_result"
    }
   ],
   "source": [
    "miriam"
   ]
  },
  {
   "cell_type": "code",
   "execution_count": 10,
   "id": "b4d92a55",
   "metadata": {},
   "outputs": [
    {
     "data": {
      "text/plain": [
       "'Q'"
      ]
     },
     "execution_count": 10,
     "metadata": {},
     "output_type": "execute_result"
    }
   ],
   "source": [
    "sophie"
   ]
  },
  {
   "cell_type": "markdown",
   "id": "93ada1a1",
   "metadata": {},
   "source": [
    "Now we will write a function that takes in the board, the marker ('P', or 'Q') and the player's selected position on the board, and places it on the board"
   ]
  },
  {
   "cell_type": "code",
   "execution_count": 11,
   "id": "2b3ed2e4",
   "metadata": {},
   "outputs": [],
   "source": [
    "def strike_location(universe, asteroid, place):\n",
    "    \n",
    "    universe[place] = asteroid"
   ]
  },
  {
   "cell_type": "code",
   "execution_count": 12,
   "id": "31badce4",
   "metadata": {},
   "outputs": [
    {
     "data": {
      "text/plain": [
       "['whatever', 'X', 'O', 'X', 'O', 'X', 'O', 'X', 'O', 'X']"
      ]
     },
     "execution_count": 12,
     "metadata": {},
     "output_type": "execute_result"
    }
   ],
   "source": [
    "other_test_galaxy"
   ]
  },
  {
   "cell_type": "code",
   "execution_count": 13,
   "id": "820cef19",
   "metadata": {},
   "outputs": [
    {
     "name": "stdout",
     "output_type": "stream",
     "text": [
      "   |   |\n",
      " X | O | X\n",
      "   |   |\n",
      "-----------\n",
      "   |   |\n",
      " O | X | O\n",
      "   |   |\n",
      "-----------\n",
      "   |   |\n",
      " X | $ | X\n",
      "   |   |\n"
     ]
    }
   ],
   "source": [
    "strike_location(other_test_galaxy,'$',8)\n",
    "universe(other_test_galaxy)"
   ]
  },
  {
   "cell_type": "code",
   "execution_count": 14,
   "id": "3664cf9e",
   "metadata": {},
   "outputs": [
    {
     "data": {
      "text/plain": [
       "['whatever', 'X', 'O', 'X', 'O', 'X', 'O', 'X', '$', 'X']"
      ]
     },
     "execution_count": 14,
     "metadata": {},
     "output_type": "execute_result"
    }
   ],
   "source": [
    "other_test_galaxy"
   ]
  },
  {
   "cell_type": "markdown",
   "id": "cd113071",
   "metadata": {},
   "source": [
    "Write a function that takes in the board and a mark and then checks to see if that mark has won"
   ]
  },
  {
   "cell_type": "code",
   "execution_count": 15,
   "id": "8e9fa9f3",
   "metadata": {},
   "outputs": [],
   "source": [
    "def big_bang(universe, asteroid):\n",
    "    \n",
    "    # win tic tac toe ?\n",
    "    \n",
    "    # check all ROWS to see if they have the same marker\n",
    "    # check all COLUMNS to see if they have the same marker\n",
    "    # check both diagonals\n",
    "    \n",
    "    return ((universe[1] == asteroid and universe[2] == asteroid and universe[3] == asteroid) or\n",
    "    (universe[4] == asteroid and universe[5] == asteroid and universe[6] == asteroid) or\n",
    "    (universe[7] == asteroid and universe[8] == asteroid and universe[9] == asteroid) or\n",
    "    (universe[1] == universe[4] == universe[7] == asteroid) or\n",
    "    (universe[2] == universe[5] == universe[8] == asteroid) or\n",
    "    (universe[3] == universe[6] == universe[9] == asteroid) or\n",
    "    (universe[3] == universe[5] == universe[7] == asteroid) or\n",
    "    (universe[1] == universe[5] == universe[9] == asteroid))\n"
   ]
  },
  {
   "cell_type": "code",
   "execution_count": 18,
   "id": "ea5eb707",
   "metadata": {},
   "outputs": [
    {
     "name": "stdout",
     "output_type": "stream",
     "text": [
      "   |   |\n",
      " X | O | X\n",
      "   |   |\n",
      "-----------\n",
      "   |   |\n",
      " O | X | O\n",
      "   |   |\n",
      "-----------\n",
      "   |   |\n",
      " X | $ | X\n",
      "   |   |\n"
     ]
    },
    {
     "data": {
      "text/plain": [
       "True"
      ]
     },
     "execution_count": 18,
     "metadata": {},
     "output_type": "execute_result"
    }
   ],
   "source": [
    "universe(other_test_galaxy)\n",
    "big_bang(other_test_galaxy,'X')"
   ]
  },
  {
   "cell_type": "markdown",
   "id": "b62959ba",
   "metadata": {},
   "source": [
    "Write a function which decides randomly which player goes first"
   ]
  },
  {
   "cell_type": "code",
   "execution_count": 19,
   "id": "cbddbbce",
   "metadata": {},
   "outputs": [],
   "source": [
    "import random"
   ]
  },
  {
   "cell_type": "code",
   "execution_count": 21,
   "id": "2c8a11a9",
   "metadata": {},
   "outputs": [],
   "source": [
    "def whos_on_first():\n",
    "    \n",
    "    turnover = random.randint(0,1)\n",
    "    \n",
    "    if turnover == 0:\n",
    "        return 'Miriam'\n",
    "    else:\n",
    "        return 'Sophie'"
   ]
  },
  {
   "cell_type": "code",
   "execution_count": 24,
   "id": "3609c458",
   "metadata": {},
   "outputs": [
    {
     "data": {
      "text/plain": [
       "'Sophie'"
      ]
     },
     "execution_count": 24,
     "metadata": {},
     "output_type": "execute_result"
    }
   ],
   "source": [
    "whos_on_first()"
   ]
  },
  {
   "cell_type": "markdown",
   "id": "22209379",
   "metadata": {},
   "source": [
    "Write a function that returns a boolean indicating whether or not a space is free on the board"
   ]
  },
  {
   "cell_type": "code",
   "execution_count": 25,
   "id": "eba8d896",
   "metadata": {},
   "outputs": [],
   "source": [
    "def dark_matter(universe,place):\n",
    "    \n",
    "    return universe[place] == ' '\n",
    "    "
   ]
  },
  {
   "cell_type": "code",
   "execution_count": 26,
   "id": "eda5eb0f",
   "metadata": {},
   "outputs": [
    {
     "data": {
      "text/plain": [
       "False"
      ]
     },
     "execution_count": 26,
     "metadata": {},
     "output_type": "execute_result"
    }
   ],
   "source": [
    "dark_matter(other_test_galaxy,9)"
   ]
  },
  {
   "cell_type": "code",
   "execution_count": 27,
   "id": "a7e06c98",
   "metadata": {},
   "outputs": [
    {
     "data": {
      "text/plain": [
       "True"
      ]
     },
     "execution_count": 27,
     "metadata": {},
     "output_type": "execute_result"
    }
   ],
   "source": [
    "dark_matter(test_galaxy,9)"
   ]
  },
  {
   "cell_type": "markdown",
   "id": "0b9cbe4c",
   "metadata": {},
   "source": [
    "Write a function that checks if the board is full and returns a boolean"
   ]
  },
  {
   "cell_type": "code",
   "execution_count": 31,
   "id": "4cb4d289",
   "metadata": {},
   "outputs": [],
   "source": [
    "def crowded_cluster(universe):\n",
    "    \n",
    "    for star in range(1,10):\n",
    "        if dark_matter(universe,star):\n",
    "            return False\n",
    "        \n",
    "    # the board is full if we return true\n",
    "    \n",
    "    return True"
   ]
  },
  {
   "cell_type": "code",
   "execution_count": 32,
   "id": "1d1b02fc",
   "metadata": {},
   "outputs": [
    {
     "data": {
      "text/plain": [
       "True"
      ]
     },
     "execution_count": 32,
     "metadata": {},
     "output_type": "execute_result"
    }
   ],
   "source": [
    "crowded_cluster(other_test_galaxy)"
   ]
  },
  {
   "cell_type": "code",
   "execution_count": 34,
   "id": "5df2dcd9",
   "metadata": {},
   "outputs": [
    {
     "data": {
      "text/plain": [
       "False"
      ]
     },
     "execution_count": 34,
     "metadata": {},
     "output_type": "execute_result"
    }
   ],
   "source": [
    "crowded_cluster(test_galaxy)"
   ]
  },
  {
   "cell_type": "markdown",
   "id": "2266cca4",
   "metadata": {},
   "source": [
    "Write a function to ask for the player's next move (1 through 9) and uses the dark_matter function to see if the place is free"
   ]
  },
  {
   "cell_type": "code",
   "execution_count": 35,
   "id": "4a4f73e1",
   "metadata": {},
   "outputs": [],
   "source": [
    "def wormhole(universe):\n",
    "    \n",
    "    gravity = 0\n",
    "    \n",
    "    while gravity not in [1,2,3,4,5,6,7,8,9] or not dark_matter(universe,gravity):\n",
    "        gravity = int(input(\"What's your next move, partner: (1-9) \"))\n",
    "        \n",
    "    return gravity"
   ]
  },
  {
   "cell_type": "code",
   "execution_count": 45,
   "id": "4809b495",
   "metadata": {},
   "outputs": [],
   "source": [
    "def shall_we_play_a_game():\n",
    "    \n",
    "    gravity = input(\"Wanna play again? Enter Yes or No \")\n",
    "    gravity = gravity.lower()\n",
    "    \n",
    "    print(gravity)\n",
    "    \n",
    "    return gravity == 'yes'"
   ]
  },
  {
   "cell_type": "code",
   "execution_count": 46,
   "id": "18aa33d3",
   "metadata": {},
   "outputs": [
    {
     "name": "stdout",
     "output_type": "stream",
     "text": [
      "Wanna play again? Enter Yes or No YES\n",
      "yes\n"
     ]
    },
    {
     "data": {
      "text/plain": [
       "True"
      ]
     },
     "execution_count": 46,
     "metadata": {},
     "output_type": "execute_result"
    }
   ],
   "source": [
    "shall_we_play_a_game()"
   ]
  },
  {
   "cell_type": "code",
   "execution_count": null,
   "id": "c5eda3f3",
   "metadata": {},
   "outputs": [],
   "source": []
  }
 ],
 "metadata": {
  "kernelspec": {
   "display_name": "Python 3 (ipykernel)",
   "language": "python",
   "name": "python3"
  },
  "language_info": {
   "codemirror_mode": {
    "name": "ipython",
    "version": 3
   },
   "file_extension": ".py",
   "mimetype": "text/x-python",
   "name": "python",
   "nbconvert_exporter": "python",
   "pygments_lexer": "ipython3",
   "version": "3.11.3"
  }
 },
 "nbformat": 4,
 "nbformat_minor": 5
}
