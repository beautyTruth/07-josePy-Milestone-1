{
 "cells": [
  {
   "cell_type": "code",
   "execution_count": 1,
   "id": "90cdb8a3",
   "metadata": {},
   "outputs": [],
   "source": [
    "our_planets = [0,1,2]"
   ]
  },
  {
   "cell_type": "code",
   "execution_count": 2,
   "id": "1a7c719a",
   "metadata": {},
   "outputs": [],
   "source": [
    "def solar_system(anything):\n",
    "    print(\"Here is the current roster of planets:\")\n",
    "    print(anything)"
   ]
  },
  {
   "cell_type": "code",
   "execution_count": 3,
   "id": "8d3d0b51",
   "metadata": {},
   "outputs": [
    {
     "name": "stdout",
     "output_type": "stream",
     "text": [
      "Here is the current roster of planets:\n",
      "[0, 1, 2]\n"
     ]
    }
   ],
   "source": [
    "solar_system(our_planets)"
   ]
  },
  {
   "cell_type": "code",
   "execution_count": 8,
   "id": "d8e0fa79",
   "metadata": {},
   "outputs": [],
   "source": [
    "def santa_cruz():\n",
    "    \n",
    "    # this starting choice value can be anything that isn't an integer\n",
    "    otter = 'being cute might delete later'\n",
    "    \n",
    "    # while the user choice is not a digit, keep asking for input\n",
    "    while otter not in ['0','1','2']:\n",
    "        \n",
    "        # don't do the conversion yet because you'll get an error for a wrong input\n",
    "        otter = input(\"Pick a position to replace (0, 1, or 2): \")\n",
    "        \n",
    "        if otter not in ['0','1','2']:\n",
    "            # this clears the current output below the cell\n",
    "            \n",
    "            print(\"Did I stutter -- choose a valid position from (0, 1, or 2) \")\n",
    "            \n",
    "            \n",
    "        # optionally we can clear everything after running the function\n",
    "        # wipe_everything()\n",
    "        \n",
    "        # we can convert the input (if necessary) after the while loop has confirmed the input was a digit\n",
    "    return int(otter)"
   ]
  },
  {
   "cell_type": "code",
   "execution_count": 9,
   "id": "15415a71",
   "metadata": {},
   "outputs": [
    {
     "name": "stdout",
     "output_type": "stream",
     "text": [
      "Pick a position to replace (0, 1, or 2): 3\n",
      "Did I stutter -- choose a valid position from (0, 1, or 2) \n",
      "Pick a position to replace (0, 1, or 2): 45\n",
      "Did I stutter -- choose a valid position from (0, 1, or 2) \n",
      "Pick a position to replace (0, 1, or 2): forged\n",
      "Did I stutter -- choose a valid position from (0, 1, or 2) \n",
      "Pick a position to replace (0, 1, or 2): 2\n"
     ]
    },
    {
     "data": {
      "text/plain": [
       "2"
      ]
     },
     "execution_count": 9,
     "metadata": {},
     "output_type": "execute_result"
    }
   ],
   "source": [
    "santa_cruz()"
   ]
  },
  {
   "cell_type": "code",
   "execution_count": 10,
   "id": "37c79a79",
   "metadata": {},
   "outputs": [],
   "source": [
    "def kelp_forest(our_planets,orbit):\n",
    "    \n",
    "    what_you_chose = input(\"Write something to put in the position you selected: \")\n",
    "    \n",
    "    our_planets[orbit] = what_you_chose\n",
    "    \n",
    "    return our_planets"
   ]
  },
  {
   "cell_type": "code",
   "execution_count": 11,
   "id": "475311bf",
   "metadata": {},
   "outputs": [
    {
     "name": "stdout",
     "output_type": "stream",
     "text": [
      "Write something to put in the position you selected: I love learning Python\n"
     ]
    },
    {
     "data": {
      "text/plain": [
       "[0, 'I love learning Python', 2]"
      ]
     },
     "execution_count": 11,
     "metadata": {},
     "output_type": "execute_result"
    }
   ],
   "source": [
    "kelp_forest(our_planets,1)"
   ]
  },
  {
   "cell_type": "code",
   "execution_count": 12,
   "id": "d6a84ffb",
   "metadata": {},
   "outputs": [],
   "source": [
    "def beach_walk():\n",
    "    \n",
    "    otter = 'being cute might delete later'\n",
    "    \n",
    "    while otter not in ['Y','N']:\n",
    "        \n",
    "        otter = input(\"Do you want to continue walking every day: (Y or N)\")\n",
    "        \n",
    "        if otter not in ['Y','N']:\n",
    "            \n",
    "            print(\"OMG, select uppercase Y or N: \")\n",
    "            \n",
    "        \n",
    "    if otter == 'Y':\n",
    "        return True\n",
    "    else:\n",
    "        return False"
   ]
  },
  {
   "cell_type": "code",
   "execution_count": 14,
   "id": "358e1af9",
   "metadata": {},
   "outputs": [
    {
     "name": "stdout",
     "output_type": "stream",
     "text": [
      "Do you want to continue walking every day: (Y or N)N\n"
     ]
    },
    {
     "data": {
      "text/plain": [
       "False"
      ]
     },
     "execution_count": 14,
     "metadata": {},
     "output_type": "execute_result"
    }
   ],
   "source": [
    "beach_walk()"
   ]
  },
  {
   "cell_type": "code",
   "execution_count": 15,
   "id": "eac960e4",
   "metadata": {},
   "outputs": [],
   "source": [
    "keep_walking = True\n",
    "our_planets = [0,1,2]"
   ]
  },
  {
   "cell_type": "code",
   "execution_count": 16,
   "id": "a4ebd295",
   "metadata": {},
   "outputs": [
    {
     "name": "stdout",
     "output_type": "stream",
     "text": [
      "Here is the current roster of planets:\n",
      "[0, 1, 2]\n",
      "Pick a position to replace (0, 1, or 2): tva\n",
      "Did I stutter -- choose a valid position from (0, 1, or 2) \n",
      "Pick a position to replace (0, 1, or 2): 1\n",
      "Write something to put in the position you selected: I'm gonna study this for a while after I'm finished\n",
      "Here is the current roster of planets:\n",
      "[0, \"I'm gonna study this for a while after I'm finished\", 2]\n",
      "Do you want to continue walking every day: (Y or N)y\n",
      "OMG, select uppercase Y or N: \n",
      "Do you want to continue walking every day: (Y or N)Y\n",
      "Here is the current roster of planets:\n",
      "[0, \"I'm gonna study this for a while after I'm finished\", 2]\n",
      "Pick a position to replace (0, 1, or 2): 0\n",
      "Write something to put in the position you selected: This is really cool\n",
      "Here is the current roster of planets:\n",
      "['This is really cool', \"I'm gonna study this for a while after I'm finished\", 2]\n",
      "Do you want to continue walking every day: (Y or N)y\n",
      "OMG, select uppercase Y or N: \n",
      "Do you want to continue walking every day: (Y or N)Y\n",
      "Here is the current roster of planets:\n",
      "['This is really cool', \"I'm gonna study this for a while after I'm finished\", 2]\n",
      "Pick a position to replace (0, 1, or 2): 2\n",
      "Write something to put in the position you selected: Because I want to have a solid foundation in Python\n",
      "Here is the current roster of planets:\n",
      "['This is really cool', \"I'm gonna study this for a while after I'm finished\", 'Because I want to have a solid foundation in Python']\n",
      "Do you want to continue walking every day: (Y or N)N\n"
     ]
    }
   ],
   "source": [
    "# these are starting variables for the test program below\n",
    "keep_walking = True\n",
    "our_planets = [0,1,2]\n",
    "\n",
    "while keep_walking:\n",
    "    \n",
    "    solar_system(our_planets)\n",
    "    \n",
    "    placement = santa_cruz()\n",
    "    \n",
    "    our_planets = kelp_forest(our_planets, placement)\n",
    "    \n",
    "    solar_system(our_planets)\n",
    "    \n",
    "    keep_walking = beach_walk()"
   ]
  },
  {
   "cell_type": "code",
   "execution_count": null,
   "id": "1f73243c",
   "metadata": {},
   "outputs": [],
   "source": []
  }
 ],
 "metadata": {
  "kernelspec": {
   "display_name": "Python 3 (ipykernel)",
   "language": "python",
   "name": "python3"
  },
  "language_info": {
   "codemirror_mode": {
    "name": "ipython",
    "version": 3
   },
   "file_extension": ".py",
   "mimetype": "text/x-python",
   "name": "python",
   "nbconvert_exporter": "python",
   "pygments_lexer": "ipython3",
   "version": "3.11.3"
  }
 },
 "nbformat": 4,
 "nbformat_minor": 5
}
