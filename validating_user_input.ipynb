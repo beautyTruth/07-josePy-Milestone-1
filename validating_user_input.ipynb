{
 "cells": [
  {
   "cell_type": "code",
   "execution_count": 4,
   "id": "3bc7388b",
   "metadata": {},
   "outputs": [],
   "source": [
    "cherry1 = [' ',' ',' ']\n",
    "cherry2 = [' ',' ',' ']\n",
    "cherry3 = [' ',' ',' ']"
   ]
  },
  {
   "cell_type": "code",
   "execution_count": 5,
   "id": "78d98708",
   "metadata": {},
   "outputs": [
    {
     "name": "stdout",
     "output_type": "stream",
     "text": [
      "Tell me what you think, X or O: 4\n"
     ]
    }
   ],
   "source": [
    "beach_house = (int(input(\"Tell me what you think, X or O: \")))"
   ]
  },
  {
   "cell_type": "code",
   "execution_count": 6,
   "id": "d3fc0cde",
   "metadata": {},
   "outputs": [
    {
     "data": {
      "text/plain": [
       "4"
      ]
     },
     "execution_count": 6,
     "metadata": {},
     "output_type": "execute_result"
    }
   ],
   "source": [
    "beach_house"
   ]
  },
  {
   "cell_type": "code",
   "execution_count": 10,
   "id": "4985a792",
   "metadata": {},
   "outputs": [],
   "source": [
    "def leave_a_trace():\n",
    "    \n",
    "    honey = input(\"Please enter a number (1-10): \")\n",
    "    \n",
    "    return int(honey)"
   ]
  },
  {
   "cell_type": "code",
   "execution_count": 11,
   "id": "b4dbd76a",
   "metadata": {},
   "outputs": [
    {
     "name": "stdout",
     "output_type": "stream",
     "text": [
      "Please enter a number (1-10): 1111\n"
     ]
    },
    {
     "data": {
      "text/plain": [
       "1111"
      ]
     },
     "execution_count": 11,
     "metadata": {},
     "output_type": "execute_result"
    }
   ],
   "source": [
    "leave_a_trace()"
   ]
  },
  {
   "cell_type": "code",
   "execution_count": 7,
   "id": "3052f1d4",
   "metadata": {},
   "outputs": [],
   "source": [
    "def leave_a_trace():\n",
    "    \n",
    "    pluto = \"EEEEE\"\n",
    "    \n",
    "    while pluto.isdigit() == False:\n",
    "        \n",
    "        pluto = input(\"Please enter a number (1-10): \")\n",
    "        \n",
    "        if pluto.isdigit() == False:\n",
    "            print(\"Type a number like I said!\")\n",
    "    \n",
    "    return int(pluto)"
   ]
  },
  {
   "cell_type": "code",
   "execution_count": 8,
   "id": "ba44b0a9",
   "metadata": {},
   "outputs": [],
   "source": [
    "another_chance = '10000'"
   ]
  },
  {
   "cell_type": "code",
   "execution_count": 9,
   "id": "d11ebac2",
   "metadata": {},
   "outputs": [
    {
     "data": {
      "text/plain": [
       "True"
      ]
     },
     "execution_count": 9,
     "metadata": {},
     "output_type": "execute_result"
    }
   ],
   "source": [
    "another_chance.isdigit()"
   ]
  },
  {
   "cell_type": "code",
   "execution_count": 10,
   "id": "b19db5fb",
   "metadata": {},
   "outputs": [
    {
     "data": {
      "text/plain": [
       "10000"
      ]
     },
     "execution_count": 10,
     "metadata": {},
     "output_type": "execute_result"
    }
   ],
   "source": [
    "int(another_chance)"
   ]
  },
  {
   "cell_type": "code",
   "execution_count": 11,
   "id": "0fd512f1",
   "metadata": {},
   "outputs": [
    {
     "data": {
      "text/plain": [
       "'10000'"
      ]
     },
     "execution_count": 11,
     "metadata": {},
     "output_type": "execute_result"
    }
   ],
   "source": [
    "another_chance"
   ]
  },
  {
   "cell_type": "code",
   "execution_count": 13,
   "id": "c80f4b37",
   "metadata": {},
   "outputs": [
    {
     "name": "stdout",
     "output_type": "stream",
     "text": [
      "Please enter a number (1-10): fiddy\n",
      "Type a number like I said!\n",
      "Please enter a number (1-10): sdjfh\n",
      "Type a number like I said!\n",
      "Please enter a number (1-10): booyah\n",
      "Type a number like I said!\n",
      "Please enter a number (1-10): 4\n"
     ]
    },
    {
     "data": {
      "text/plain": [
       "4"
      ]
     },
     "execution_count": 13,
     "metadata": {},
     "output_type": "execute_result"
    }
   ],
   "source": [
    "leave_a_trace()"
   ]
  },
  {
   "cell_type": "code",
   "execution_count": 17,
   "id": "31666267",
   "metadata": {},
   "outputs": [],
   "source": [
    "sheriff = 'Boss Hogg'"
   ]
  },
  {
   "cell_type": "code",
   "execution_count": 18,
   "id": "7c0d1ebb",
   "metadata": {},
   "outputs": [],
   "source": [
    "dukes_of_hazzard = [1,2,3]"
   ]
  },
  {
   "cell_type": "code",
   "execution_count": 19,
   "id": "e5d054c9",
   "metadata": {},
   "outputs": [
    {
     "data": {
      "text/plain": [
       "False"
      ]
     },
     "execution_count": 19,
     "metadata": {},
     "output_type": "execute_result"
    }
   ],
   "source": [
    "sheriff in dukes_of_hazzard"
   ]
  },
  {
   "cell_type": "code",
   "execution_count": 20,
   "id": "21c88266",
   "metadata": {},
   "outputs": [
    {
     "data": {
      "text/plain": [
       "True"
      ]
     },
     "execution_count": 20,
     "metadata": {},
     "output_type": "execute_result"
    }
   ],
   "source": [
    "sheriff not in dukes_of_hazzard"
   ]
  },
  {
   "cell_type": "code",
   "execution_count": 23,
   "id": "c3d0e7d0",
   "metadata": {},
   "outputs": [],
   "source": [
    "def leave_a_trace():\n",
    "    \n",
    "    # our variables\n",
    "    \n",
    "    # initial variables\n",
    "    pluto = \" or anything else that's not a digit\"\n",
    "    solar_system = range(0,10)\n",
    "    in_solar_system = False\n",
    "    \n",
    "    # Two conditions to check\n",
    "    # Is it a digit and is the response within range 1-10 (True or False)\n",
    "    while pluto.isdigit() == False or in_solar_system == False:\n",
    "        \n",
    "        pluto = input(\"Please enter a number (1-10): \")\n",
    "        \n",
    "        # the digit condition check\n",
    "        if pluto.isdigit() == False:\n",
    "            print(\"Type a number like I said!\")\n",
    "            \n",
    "        # the within range check\n",
    "        if pluto.isdigit() == True:\n",
    "            if int(pluto) in solar_system:\n",
    "                in_solar_system = True\n",
    "            else:\n",
    "                print(\"Follow the instructions and make your choice between 0 and 10\")\n",
    "                in_solar_system = False\n",
    "    \n",
    "    return int(pluto)"
   ]
  },
  {
   "cell_type": "code",
   "execution_count": 24,
   "id": "55dbe0c8",
   "metadata": {},
   "outputs": [
    {
     "name": "stdout",
     "output_type": "stream",
     "text": [
      "Please enter a number (1-10): 55\n",
      "Follow the instructions and make your choice between 0 and 10\n",
      "Please enter a number (1-10): thirty\n",
      "Type a number like I said!\n",
      "Please enter a number (1-10): 7\n"
     ]
    },
    {
     "data": {
      "text/plain": [
       "7"
      ]
     },
     "execution_count": 24,
     "metadata": {},
     "output_type": "execute_result"
    }
   ],
   "source": [
    "leave_a_trace()"
   ]
  },
  {
   "cell_type": "code",
   "execution_count": null,
   "id": "3a5bfacb",
   "metadata": {},
   "outputs": [],
   "source": []
  }
 ],
 "metadata": {
  "kernelspec": {
   "display_name": "Python 3 (ipykernel)",
   "language": "python",
   "name": "python3"
  },
  "language_info": {
   "codemirror_mode": {
    "name": "ipython",
    "version": 3
   },
   "file_extension": ".py",
   "mimetype": "text/x-python",
   "name": "python",
   "nbconvert_exporter": "python",
   "pygments_lexer": "ipython3",
   "version": "3.11.3"
  }
 },
 "nbformat": 4,
 "nbformat_minor": 5
}
